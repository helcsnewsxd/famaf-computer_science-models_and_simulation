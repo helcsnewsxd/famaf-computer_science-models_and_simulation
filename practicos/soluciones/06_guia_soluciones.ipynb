{
 "cells": [
  {
   "cell_type": "markdown",
   "metadata": {},
   "source": [
    "# Práctico 5: Generación de Variables Aleatorias Continuas\n"
   ]
  },
  {
   "cell_type": "code",
   "execution_count": 81,
   "metadata": {},
   "outputs": [],
   "source": [
    "import random as rnd\n",
    "import numpy as np\n",
    "from math import *\n",
    "from scipy.stats import chi2\n",
    "from tabulate import tabulate"
   ]
  },
  {
   "cell_type": "markdown",
   "metadata": {},
   "source": [
    "## Utilidades de unidades anteriores\n"
   ]
  },
  {
   "cell_type": "code",
   "execution_count": 3,
   "metadata": {},
   "outputs": [],
   "source": [
    "def normal_distribution(m: float, s: float, sz: int = 1, method: str = \"rejection\") -> list[float]:\n",
    "    \"\"\"\n",
    "    Generates random numbers from a normal distribution.\n",
    "\n",
    "    Parameters:\n",
    "    m: float\n",
    "        The mean of the normal distribution.\n",
    "    s: float\n",
    "        The standard deviation of the normal distribution.\n",
    "    sz: int\n",
    "        The number of random numbers to generate.\n",
    "    method: str\n",
    "        The method to use for generating random numbers. Can be \"rejection\", \"polar\", \"box-muller\" or \"uniform_ratios\".\n",
    "        Default is \"rejection\".\n",
    "\n",
    "    Returns:\n",
    "    list[float]\n",
    "        A list of random numbers from the normal distribution.\n",
    "    \"\"\"\n",
    "    def rejection_method() -> float:\n",
    "        while True:\n",
    "            u, y = -np.log(rnd.random()), -np.log(rnd.random())\n",
    "            if y >= (u - 1) ** 2 / 2:\n",
    "                return (u if rnd.random() < 0.5 else -u)\n",
    "\n",
    "    def polar_method() -> list[float]:\n",
    "        r2 = -2 * np.log(1 - rnd.random())\n",
    "        theta = 2 * np.pi * rnd.random()\n",
    "        x, y = np.sqrt(r2) * np.cos(theta), np.sqrt(r2) * np.sin(theta)\n",
    "        return [x, y]\n",
    "\n",
    "    def box_muller_method() -> list[float]:\n",
    "        while True:\n",
    "            v1, v2 = 2 * rnd.random() - 1, 2 * rnd.random() - 1\n",
    "            if v1 ** 2 + v2 ** 2 <= 1:\n",
    "                s = v1 ** 2 + v2 ** 2\n",
    "                x, y = v1 * np.sqrt(-2 * np.log(s) / s), v2 * \\\n",
    "                    np.sqrt(-2 * np.log(s) / s)\n",
    "                return [x, y]\n",
    "\n",
    "    def uniform_ratios_method() -> float:\n",
    "        c = 4 * np.exp(-0.5) / np.sqrt(2.0)\n",
    "        while True:\n",
    "            u, y = rnd.random(), 1 - rnd.random()\n",
    "            z = c * (u - 0.5) / y\n",
    "            if z ** 2 / 4 <= -np.log(y):\n",
    "                return z\n",
    "\n",
    "    match method:\n",
    "        case \"polar\":\n",
    "            r = []\n",
    "            while len(r) < sz:\n",
    "                r += [m + x * s for x in polar_method()]\n",
    "            return r[:sz]\n",
    "        case \"box-muller\":\n",
    "            r = []\n",
    "            while len(r) < sz:\n",
    "                r += [m + x * s for x in box_muller_method()]\n",
    "            return r[:sz]\n",
    "        case \"uniform_ratios\":\n",
    "            return [m + uniform_ratios_method() * s for _ in range(sz)]\n",
    "        case \"rejection\":\n",
    "            return [m + rejection_method() * s for _ in range(sz)]\n",
    "        case _:\n",
    "            raise ValueError(\n",
    "                \"Invalid method. Please use 'rejection', 'polar', 'box-muller' or 'uniform_ratios'.\")"
   ]
  },
  {
   "cell_type": "code",
   "execution_count": 87,
   "metadata": {},
   "outputs": [],
   "source": [
    "def binomial_distribution(n: int, p: float, sz: int = 1) -> list[int]:\n",
    "    \"\"\"\n",
    "    Generate a random number from a binomial distribution.\n",
    "\n",
    "    Parameters:\n",
    "    n: int - Number of trials.\n",
    "    p: float - Probability of success.\n",
    "    sz: int - Number of random numbers to generate.\n",
    "\n",
    "    Returns:\n",
    "    list[int] - List of random numbers.\n",
    "    \"\"\"\n",
    "    def generate(n: int, p: float) -> int:\n",
    "        c = p / (1 - p)\n",
    "        prob = (1 - p)**n\n",
    "        F = prob\n",
    "        U = rnd.random()\n",
    "\n",
    "        for j in range(1, int(n * p) + 1):\n",
    "            prob *= c * (n - j + 1) / j\n",
    "            F += prob\n",
    "        if U >= F:\n",
    "            j = int(n * p) + 1\n",
    "            while U >= F:\n",
    "                prob *= c * (n - j + 1) / j\n",
    "                F += prob\n",
    "                j += 1\n",
    "            return j - 1\n",
    "        else:\n",
    "            j = int(n * p)\n",
    "            while U < F:\n",
    "                F -= prob\n",
    "                prob *= j / (c * (n - j + 1))\n",
    "                j -= 1\n",
    "            return j + 1\n",
    "\n",
    "    if p > 0.5:\n",
    "        return [n - generate(n, 1 - p) for _ in range(sz)]\n",
    "    else:\n",
    "        return [generate(n, p) for _ in range(sz)]"
   ]
  },
  {
   "cell_type": "code",
   "execution_count": 137,
   "metadata": {},
   "outputs": [],
   "source": [
    "def inverse_transform_method(G: callable) -> float:\n",
    "    \"\"\"\n",
    "    Inverse Transform Method for generating random numbers from a given distribution.\n",
    "\n",
    "    Parameters:\n",
    "    G: callable\n",
    "        The inverse of the cumulative distribution function of the distribution from which we want to generate random numbers.\n",
    "\n",
    "    Returns:\n",
    "    float\n",
    "        A random number from the distribution.\n",
    "    \"\"\"\n",
    "    U = rnd.random()\n",
    "    return G(U)\n",
    "\n",
    "\n",
    "def gamma_distribution(a: int, b: float, sz: int = 1) -> list[float]:\n",
    "    \"\"\"\n",
    "    Generates random numbers from a gamma distribution with shape parameter ('a') as integer.\n",
    "    I.e., a Erlang distribution.\n",
    "\n",
    "    Parameters:\n",
    "    a: int\n",
    "        The shape parameter of the gamma distribution.\n",
    "    b: float\n",
    "        The rate parameter of the gamma distribution.\n",
    "    sz: int\n",
    "        The number of random numbers to generate.\n",
    "\n",
    "    Returns:\n",
    "    list[float]\n",
    "        A list of random numbers from the gamma distribution.\n",
    "    \"\"\"\n",
    "    def generate_gamma(a: int, b: float) -> float:\n",
    "        u = 1\n",
    "        for _ in range(a):\n",
    "            u *= 1 - rnd.random()\n",
    "        assert u > 0, \"Invalid value generated for u\"\n",
    "        return -np.log(u) * b\n",
    "\n",
    "    return [generate_gamma(a, b) for _ in range(sz)]\n",
    "\n",
    "\n",
    "def exponential_distribution(l: float, sz: int = 1, gamma_method: bool = True) -> list[float]:\n",
    "    \"\"\"\n",
    "    Generates random numbers from an exponential distribution.\n",
    "\n",
    "    Parameters:\n",
    "    l: float\n",
    "        The rate parameter of the exponential distribution.\n",
    "    sz: int\n",
    "        The number of random numbers to generate.\n",
    "    gamma_method: bool\n",
    "        If True, uses the gamma distribution method to generate random numbers. Otherwise, uses the inverse transform method.\n",
    "        (The gamma method is more efficient for generating multiple random numbers but if the SZ is big, -log(u) can be very close to 0 and cause numerical issues.)\n",
    "\n",
    "    Returns:\n",
    "    list[float]\n",
    "        A list of random numbers from the exponential distribution.\n",
    "    \"\"\"\n",
    "    if sz == 1 or not gamma_method:\n",
    "        return [inverse_transform_method(lambda u: -np.log(1 - u) / l) for _ in range(sz)]\n",
    "\n",
    "    # Method using a Gamma distribution.\n",
    "    t = gamma_distribution(sz, 1/l)[0]\n",
    "    u = sorted([rnd.random() for _ in range(sz - 1)] + [0, 1])\n",
    "    return [(u[i] - u[i-1]) * t for i in range(1, len(u))]"
   ]
  },
  {
   "cell_type": "markdown",
   "metadata": {},
   "source": [
    "### De esta unidad\n"
   ]
  },
  {
   "cell_type": "markdown",
   "metadata": {},
   "source": [
    "## Análisis Estadístico de Datos Simulados\n"
   ]
  },
  {
   "cell_type": "markdown",
   "metadata": {},
   "source": [
    "### Utilidades\n"
   ]
  },
  {
   "cell_type": "code",
   "execution_count": 27,
   "metadata": {},
   "outputs": [],
   "source": [
    "def sample_mean(data: list[float]) -> float:\n",
    "    \"\"\"\n",
    "    Calculates the sample mean of a list of numbers.\n",
    "\n",
    "    Parameters:\n",
    "    data: list[float]\n",
    "        The list of numbers.\n",
    "\n",
    "    Returns:\n",
    "    float\n",
    "        The sample mean of the list of numbers.\n",
    "    \"\"\"\n",
    "    return sum(data) / len(data)\n",
    "\n",
    "\n",
    "def sample_variance(data: list[float]) -> float:\n",
    "    \"\"\"\n",
    "    Calculates the sample variance of a list of numbers.\n",
    "\n",
    "    Parameters:\n",
    "    data: list[float]\n",
    "        The list of numbers.\n",
    "\n",
    "    Returns:\n",
    "    float\n",
    "        The sample variance of the list of numbers.\n",
    "    \"\"\"\n",
    "    m = sample_mean(data)\n",
    "    return sum((x - m) ** 2 for x in data) / (len(data) - 1)"
   ]
  },
  {
   "cell_type": "code",
   "execution_count": 9,
   "metadata": {},
   "outputs": [],
   "source": [
    "def calculate_principal_estimators(generator: callable = rnd.random, n: int = 1, d: float = 0.1):\n",
    "    \"\"\"\n",
    "    Calculate the principal estimators (mean and variance) of the given generator.\n",
    "\n",
    "    Parameters:\n",
    "    - generator (callable): A random number generator.\n",
    "    - n (int): The number of samples to generate.\n",
    "    - d (float): The limit for standard deviation.\n",
    "\n",
    "    Returns:\n",
    "    - mean (float): The mean of the samples.\n",
    "    - variance (float): The variance of the samples.\n",
    "    - n (int): The number of samples generated.\n",
    "    \"\"\"\n",
    "\n",
    "    mean = generator()\n",
    "    s2 = 0\n",
    "    i = 1\n",
    "    while i <= n or np.sqrt(s2/i) > d:\n",
    "        i += 1\n",
    "        X = generator()\n",
    "\n",
    "        prev_mean = mean\n",
    "        mean = mean + (X - mean) / i\n",
    "        s2 = s2 * (1 - 1/(i-1)) + i * (mean - prev_mean)**2\n",
    "\n",
    "    return mean, s2, i"
   ]
  },
  {
   "cell_type": "markdown",
   "metadata": {},
   "source": [
    "### Ejercicio 1\n"
   ]
  },
  {
   "cell_type": "code",
   "execution_count": 16,
   "metadata": {},
   "outputs": [
    {
     "name": "stdout",
     "output_type": "stream",
     "text": [
      "Number of samples: 123\n",
      "Mean: -0.009755856823913332\n",
      "Variance: 1.2126562072241944\n"
     ]
    }
   ],
   "source": [
    "n = 100\n",
    "d = 0.1\n",
    "\n",
    "\n",
    "def generator(): return normal_distribution(0, 1, 1)[0]\n",
    "\n",
    "\n",
    "mean, variance, n = calculate_principal_estimators(generator, n, d)\n",
    "\n",
    "print(f\"Number of samples: {n}\")\n",
    "print(f\"Mean: {mean}\")\n",
    "print(f\"Variance: {variance}\")"
   ]
  },
  {
   "cell_type": "markdown",
   "metadata": {},
   "source": [
    "### Ejercicio 2\n"
   ]
  },
  {
   "cell_type": "code",
   "execution_count": 20,
   "metadata": {},
   "outputs": [
    {
     "name": "stdout",
     "output_type": "stream",
     "text": [
      "╒════════════╤══════════════════════════════╤═════════════════════╕\n",
      "│ Exercise   │   Estimation of the integral │   Number of samples │\n",
      "╞════════════╪══════════════════════════════╪═════════════════════╡\n",
      "│ i          │                     2.05813  │               35236 │\n",
      "├────────────┼──────────────────────────────┼─────────────────────┤\n",
      "│ ii         │                     0.896966 │                3185 │\n",
      "╘════════════╧══════════════════════════════╧═════════════════════╛\n"
     ]
    }
   ],
   "source": [
    "def generator_i():\n",
    "    U = rnd.random()\n",
    "    return np.exp(U) / np.sqrt(2 * U)\n",
    "\n",
    "\n",
    "def generator_ii():\n",
    "    def f(x): return x**2 * np.exp(-x**2)\n",
    "    U = rnd.random()\n",
    "    return f(1/U - 1) / U**2\n",
    "\n",
    "\n",
    "n = 100\n",
    "d = 0.01\n",
    "mean_i, variance_i, n_i = calculate_principal_estimators(generator_i, n, d)\n",
    "mean_ii, variance_ii, n_ii = calculate_principal_estimators(generator_ii, n, d)\n",
    "\n",
    "data = [[\"i\", mean_i, n_i],\n",
    "        [\"ii\", 2*mean_ii, n_ii]]\n",
    "headers = [\"Exercise\", \"Estimation of the integral\", \"Number of samples\"]\n",
    "print(tabulate(data, headers, tablefmt=\"fancy_grid\"))"
   ]
  },
  {
   "cell_type": "markdown",
   "metadata": {},
   "source": [
    "### Ejercicio 3\n"
   ]
  },
  {
   "cell_type": "code",
   "execution_count": 31,
   "metadata": {},
   "outputs": [
    {
     "name": "stdout",
     "output_type": "stream",
     "text": [
      "For the first integral:\n",
      "╒══════════════════════════════╤════════════╤═════════════════════╤══════════════════════════════════════════════╕\n",
      "│   Estimation of the integral │   Variance │   Number of samples │ Confidence interval                          │\n",
      "╞══════════════════════════════╪════════════╪═════════════════════╪══════════════════════════════════════════════╡\n",
      "│                    -0.437815 │  0.0441577 │                1000 │ (-0.45083924771680595, -0.42479035720043623) │\n",
      "├──────────────────────────────┼────────────┼─────────────────────┼──────────────────────────────────────────────┤\n",
      "│                    -0.430717 │  0.044912  │                5000 │ (-0.43659084236042267, -0.4248423442371536)  │\n",
      "├──────────────────────────────┼────────────┼─────────────────────┼──────────────────────────────────────────────┤\n",
      "│                    -0.432222 │  0.0440323 │                7000 │ (-0.4371381514306426, -0.4273065852504645)   │\n",
      "├──────────────────────────────┼────────────┼─────────────────────┼──────────────────────────────────────────────┤\n",
      "│                    -0.433771 │  0.0443206 │              681049 │ (-0.43427084288649975, -0.4332708433178931)  │\n",
      "╘══════════════════════════════╧════════════╧═════════════════════╧══════════════════════════════════════════════╛\n",
      "For the second integral:\n",
      "╒══════════════════════════════╤════════════╤═════════════════════╤══════════════════════════════════════════╕\n",
      "│   Estimation of the integral │   Variance │   Number of samples │ Confidence interval                      │\n",
      "╞══════════════════════════════╪════════════╪═════════════════════╪══════════════════════════════════════════╡\n",
      "│                      1.46306 │   0.902923 │                1000 │ (1.4041692688403524, 1.5219601073055984) │\n",
      "├──────────────────────────────┼────────────┼─────────────────────┼──────────────────────────────────────────┤\n",
      "│                      1.46275 │   0.960417 │                5000 │ (1.435587770807932, 1.489916691735039)   │\n",
      "├──────────────────────────────┼────────────┼─────────────────────┼──────────────────────────────────────────┤\n",
      "│                      1.44829 │   0.942416 │                7000 │ (1.4255498414849814, 1.4710338054955354) │\n",
      "├──────────────────────────────┼────────────┼─────────────────────┼──────────────────────────────────────────┤\n",
      "│                      1.46195 │   0.952779 │            14640786 │ (1.4614489925631065, 1.462448992537645)  │\n",
      "╘══════════════════════════════╧════════════╧═════════════════════╧══════════════════════════════════════════╛\n"
     ]
    }
   ],
   "source": [
    "def generator_i():\n",
    "    U = rnd.random()\n",
    "    return np.sin(np.pi*(U + 1))/(U + 1)\n",
    "\n",
    "\n",
    "def generator_ii():\n",
    "    def f(x): return 3/(3 + x**4)\n",
    "    U = rnd.random()\n",
    "    return f(1/U - 1) / U**2\n",
    "\n",
    "\n",
    "z_alpha_2 = 1.96\n",
    "d = 0.001 / (2 * z_alpha_2)\n",
    "n = 100\n",
    "\n",
    "data_i = calculate_principal_estimators(generator_i, n, d)\n",
    "data_ii = calculate_principal_estimators(generator_ii, n, d)\n",
    "\n",
    "# Generate answer\n",
    "\n",
    "\n",
    "def g(gen, x):\n",
    "    data = [gen() for _ in range(x)]\n",
    "    return [sample_mean(data), sample_variance(data), x]\n",
    "\n",
    "\n",
    "nro_sim = [1000, 5000, 7000]\n",
    "ans_i = list(map(lambda x: g(generator_i, x), nro_sim)) + [data_i]\n",
    "ans_ii = list(map(lambda x: g(generator_ii, x), nro_sim)) + [data_ii]\n",
    "\n",
    "\n",
    "def confidence_interval(z_alpha_2, mean, var, n):\n",
    "    B = np.sqrt(var / n) * z_alpha_2\n",
    "    return mean - B, mean + B\n",
    "\n",
    "\n",
    "ans_i = list(map(lambda x: [x[0], x[1], x[2], confidence_interval(\n",
    "    z_alpha_2, x[0], x[1], x[2])], ans_i))\n",
    "ans_ii = list(map(lambda x: [x[0], x[1], x[2], confidence_interval(\n",
    "    z_alpha_2, x[0], x[1], x[2])], ans_ii))\n",
    "\n",
    "headers = [\"Estimation of the integral\", \"Variance\",\n",
    "           \"Number of samples\", \"Confidence interval\"]\n",
    "print('For the first integral:')\n",
    "print(tabulate(ans_i, headers, tablefmt=\"fancy_grid\"))\n",
    "print('For the second integral:')\n",
    "print(tabulate(ans_ii, headers, tablefmt=\"fancy_grid\"))"
   ]
  },
  {
   "cell_type": "markdown",
   "metadata": {},
   "source": [
    "### Ejercicio 4\n"
   ]
  },
  {
   "cell_type": "code",
   "execution_count": 49,
   "metadata": {},
   "outputs": [
    {
     "name": "stdout",
     "output_type": "stream",
     "text": [
      "Item B: Variance of the estimator: 0.000741342298298299\n",
      "Item C\n",
      "╒═══════════════════╤═══════════════════╤════════════╤═════════════════════╕\n",
      "│   Real value of e │   Estimation of e │   Variance │   Number of samples │\n",
      "╞═══════════════════╪═══════════════════╪════════════╪═════════════════════╡\n",
      "│           2.71828 │            2.7202 │   0.771703 │               18974 │\n",
      "╘═══════════════════╧═══════════════════╧════════════╧═════════════════════╛\n"
     ]
    }
   ],
   "source": [
    "def generate_data():\n",
    "    s, i = 0, 0\n",
    "    while s < 1:\n",
    "        s += rnd.random()\n",
    "        i += 1\n",
    "    return i\n",
    "\n",
    "\n",
    "def e_estimator(n):\n",
    "    sample = [generate_data() for _ in range(n)]\n",
    "    return sample_mean(sample)\n",
    "\n",
    "\n",
    "# Item B\n",
    "n = 1000\n",
    "data = [e_estimator(n) for _ in range(n)]\n",
    "var = sample_variance(data)\n",
    "print(f'Item B: Variance of the estimator: {var}')\n",
    "\n",
    "# Item C\n",
    "n = 1000\n",
    "a = 0.05\n",
    "l = 0.025\n",
    "z_alpha_2 = 1.96\n",
    "d = l / (2 * z_alpha_2)\n",
    "\n",
    "mean, variance, n = calculate_principal_estimators(generate_data, n, d)\n",
    "print('Item C')\n",
    "headers = ['Real value of e', 'Estimation of e',\n",
    "           'Variance', 'Number of samples']\n",
    "data = [np.e, mean, variance, n]\n",
    "print(tabulate([data], headers, tablefmt=\"fancy_grid\"))"
   ]
  },
  {
   "cell_type": "markdown",
   "metadata": {},
   "source": [
    "### Ejercicio 5\n"
   ]
  },
  {
   "cell_type": "code",
   "execution_count": 69,
   "metadata": {},
   "outputs": [
    {
     "name": "stdout",
     "output_type": "stream",
     "text": [
      "Item C\n",
      "╒═══════════════════╤═══════════════════╤════════════╤═════════════════════╕\n",
      "│   Real value of e │   Estimation of e │   Variance │   Number of samples │\n",
      "╞═══════════════════╪═══════════════════╪════════════╪═════════════════════╡\n",
      "│           2.71828 │           2.72676 │   0.781981 │                7821 │\n",
      "╘═══════════════════╧═══════════════════╧════════════╧═════════════════════╛\n",
      "Item D\n",
      "╒═══════════════════╤════════════╤═════════════════════╤══════════════════════════════════════════╕\n",
      "│   Estimation of e │   Variance │   Number of samples │ Confidence interval                      │\n",
      "╞═══════════════════╪════════════╪═════════════════════╪══════════════════════════════════════════╡\n",
      "│           2.73032 │   0.718872 │                1105 │ (2.6803247279204987, 2.7803087562423974) │\n",
      "╘═══════════════════╧════════════╧═════════════════════╧══════════════════════════════════════════╛\n"
     ]
    }
   ],
   "source": [
    "def generar_M():\n",
    "    s, i = 0, 1\n",
    "    U = rnd.random()\n",
    "    while s < U:\n",
    "        s = U\n",
    "        U = rnd.random()\n",
    "        i += 1\n",
    "    return i\n",
    "\n",
    "\n",
    "# Item C\n",
    "n = 1000\n",
    "d = 0.01\n",
    "mean, variance, n = calculate_principal_estimators(generar_M, n, d)\n",
    "print('Item C')\n",
    "headers = ['Real value of e', 'Estimation of e',\n",
    "           'Variance', 'Number of samples']\n",
    "data = [np.e, mean, variance, n]\n",
    "print(tabulate([data], headers, tablefmt=\"fancy_grid\"))\n",
    "\n",
    "# Item D\n",
    "z_alpha_2 = 1.96\n",
    "l = 0.1\n",
    "d = l / (2 * z_alpha_2)\n",
    "n = 1000\n",
    "\n",
    "mean, variance, n = calculate_principal_estimators(generar_M, n, d)\n",
    "\n",
    "\n",
    "def confidence_interval(z_alpha_2, mean, var, n):\n",
    "    B = np.sqrt(var / n) * z_alpha_2\n",
    "    return mean - B, mean + B\n",
    "\n",
    "\n",
    "headers = ['Estimation of e', 'Variance',\n",
    "           'Number of samples', 'Confidence interval']\n",
    "data = [mean, variance, n, confidence_interval(z_alpha_2, mean, variance, n)]\n",
    "print('Item D')\n",
    "print(tabulate([data], headers, tablefmt=\"fancy_grid\"))"
   ]
  },
  {
   "cell_type": "markdown",
   "metadata": {},
   "source": [
    "### Ejercicio 6\n"
   ]
  },
  {
   "cell_type": "code",
   "execution_count": 78,
   "metadata": {},
   "outputs": [
    {
     "name": "stdout",
     "output_type": "stream",
     "text": [
      "Item A\n",
      "╒════════════════════╤════════════════════╤════════════╤═════════════════════╕\n",
      "│   Real value of pi │   Estimation of pi │   Variance │   Number of samples │\n",
      "╞════════════════════╪════════════════════╪════════════╪═════════════════════╡\n",
      "│            3.14159 │            3.13969 │    0.16886 │                4152 │\n",
      "╘════════════════════╧════════════════════╧════════════╧═════════════════════╛\n"
     ]
    }
   ],
   "source": [
    "def generate_P():\n",
    "    X = rnd.random()\n",
    "    Y = rnd.random()\n",
    "    return 1 if X**2 + Y**2 <= 1 else 0\n",
    "\n",
    "\n",
    "l = 0.1\n",
    "z_alpha_2 = 1.96\n",
    "d = l / (8 * z_alpha_2)\n",
    "n = 1000\n",
    "\n",
    "mean, variance, n = calculate_principal_estimators(generate_P, n, d)\n",
    "\n",
    "headers = ['Real value of pi', 'Estimation of pi',\n",
    "           'Variance', 'Number of samples']\n",
    "data = [np.pi, mean * 4, variance, n]\n",
    "print('Item A')\n",
    "print(tabulate([data], headers, tablefmt=\"fancy_grid\"))"
   ]
  },
  {
   "cell_type": "markdown",
   "metadata": {},
   "source": [
    "## Técnicas de Validación Estadística\n"
   ]
  },
  {
   "cell_type": "markdown",
   "metadata": {},
   "source": [
    "### Utilidades\n"
   ]
  },
  {
   "cell_type": "markdown",
   "metadata": {},
   "source": [
    "#### Datos discretos - Test chi-cuadrado de Pearson\n"
   ]
  },
  {
   "cell_type": "code",
   "execution_count": 111,
   "metadata": {},
   "outputs": [],
   "source": [
    "def pearson_estimator(N: list[int], p: list[float]) -> float:\n",
    "    \"\"\"\n",
    "    Calculates the Pearson estimator of a list of numbers.\n",
    "\n",
    "    Parameters:\n",
    "    N: list[int]\n",
    "        The list of frequencies.\n",
    "    p: list[float]\n",
    "        The list of probabilities.\n",
    "\n",
    "    Returns:\n",
    "    float\n",
    "        The Pearson estimator of the list of numbers.\n",
    "    \"\"\"\n",
    "    assert len(N) == len(p)\n",
    "\n",
    "    n = sum(N)\n",
    "    return sum((N[i] - n * p[i]) ** 2 / (n * p[i]) for i in range(len(N)))\n",
    "\n",
    "\n",
    "def pearson_p_value(t: float, df: int) -> float:\n",
    "    \"\"\"\n",
    "    Calculates the p-value of the Pearson estimator.\n",
    "\n",
    "    Parameters:\n",
    "    t: float\n",
    "        The value of the Pearson estimator.\n",
    "    df: int\n",
    "        The degrees of freedom.\n",
    "\n",
    "    Returns:\n",
    "    float\n",
    "        The p-value of the Pearson estimator.\n",
    "    \"\"\"\n",
    "    return 1.0 - chi2.cdf(t, df)\n",
    "\n",
    "\n",
    "def pearson_p_value_sim(t: float, n_sim: int, p: list[float], n: int):\n",
    "    \"\"\"\n",
    "    Calculates the p-value of the Pearson estimator using simulation.\n",
    "\n",
    "    Parameters:\n",
    "    t: float\n",
    "        The value of the Pearson estimator.\n",
    "    n_sim: int\n",
    "        The number of simulations to run.\n",
    "    p: list[float]\n",
    "        The list of probabilities.\n",
    "    n: int\n",
    "        The size of the original sample.\n",
    "\n",
    "    Returns:\n",
    "    float\n",
    "        The p-value of the Pearson estimator.\n",
    "    \"\"\"\n",
    "    def create_observation_freq(n: int, p: list[float]):\n",
    "        N = np.zeros(len(p))\n",
    "        N[0] = binomial_distribution(n, p[0])[0]\n",
    "        for i in range(1, len(p) - 1):\n",
    "            N[i] = binomial_distribution(\n",
    "                n - sum(N[:i]), p[i]/(1 - sum(p[:i])))[0]\n",
    "        N[-1] = n - sum(N[:-1])\n",
    "        return np.array(N, dtype=int)\n",
    "\n",
    "    p_value = 0\n",
    "    for _ in range(n_sim):\n",
    "        N = create_observation_freq(n, p)\n",
    "        t_sim = pearson_estimator(N, p)\n",
    "        if t_sim >= t:\n",
    "            p_value += 1\n",
    "    return p_value / n_sim"
   ]
  },
  {
   "cell_type": "markdown",
   "metadata": {},
   "source": [
    "#### Datos continuos - Test de Kolmogorov-Smirnov\n"
   ]
  },
  {
   "cell_type": "code",
   "execution_count": 103,
   "metadata": {},
   "outputs": [],
   "source": [
    "def kolmogorov_estimator(sample: list[float], F: callable):\n",
    "    \"\"\"\n",
    "    Calculates the Kolmogorov estimator of a list of numbers.\n",
    "\n",
    "    Parameters:\n",
    "    sample: list[float]\n",
    "        The list of numbers.\n",
    "    F: callable\n",
    "        The cumulative distribution function.\n",
    "\n",
    "    Returns:\n",
    "    float\n",
    "        The Kolmogorov estimator of the list of numbers.\n",
    "    \"\"\"\n",
    "\n",
    "    n = len(sample)\n",
    "    s_sample = sorted(sample)\n",
    "\n",
    "    D = 0\n",
    "    for i in range(n):\n",
    "        D = max((i + 1) / n - F(s_sample[i]), F(s_sample[i]) - i / n, D)\n",
    "\n",
    "    return D\n",
    "\n",
    "\n",
    "def kolmogorov_p_value_sim(d: float, n_sim: int, n: int):\n",
    "    \"\"\"\n",
    "    Calculates the p-value of the Kolmogorov estimator using simulation.\n",
    "\n",
    "    Parameters:\n",
    "    d: float\n",
    "        The value of the Kolmogorov estimator.\n",
    "    n_sim: int\n",
    "        The number of simulations to run.\n",
    "    n: int\n",
    "        The size of the original sample.\n",
    "\n",
    "    Returns:\n",
    "    float\n",
    "        The p-value of the Kolmogorov estimator.\n",
    "    \"\"\"\n",
    "    p_value = 0\n",
    "    for _ in range(n_sim):\n",
    "        sample = [rnd.random() for _ in range(n)]\n",
    "        D = kolmogorov_estimator(sample, lambda x: x)\n",
    "        if D >= d:\n",
    "            p_value += 1\n",
    "\n",
    "    return p_value / n_sim"
   ]
  },
  {
   "cell_type": "markdown",
   "metadata": {},
   "source": [
    "### Ejercicio 7\n"
   ]
  },
  {
   "cell_type": "code",
   "execution_count": 97,
   "metadata": {},
   "outputs": [
    {
     "name": "stdout",
     "output_type": "stream",
     "text": [
      "p-value: 0.6499557054800363\n",
      "p-value (simulation): 0.639\n"
     ]
    }
   ],
   "source": [
    "# DATA\n",
    "p = [1/4, 1/2, 1/4]\n",
    "N = [141, 291, 132]\n",
    "\n",
    "# Item A\n",
    "t = pearson_estimator(N, p)\n",
    "p_value = pearson_p_value(t, len(p) - 1)\n",
    "print(f'p-value: {p_value}')\n",
    "\n",
    "# Item B\n",
    "n_sim = 1000\n",
    "p_value_sim = pearson_p_value_sim(t, n_sim, p, sum(N))\n",
    "print(f'p-value (simulation): {p_value_sim}')"
   ]
  },
  {
   "cell_type": "markdown",
   "metadata": {},
   "source": [
    "### Ejercicio 8\n"
   ]
  },
  {
   "cell_type": "code",
   "execution_count": 98,
   "metadata": {},
   "outputs": [
    {
     "name": "stdout",
     "output_type": "stream",
     "text": [
      "p-value: 0.8237195392577814\n",
      "p-value (simulation): 0.823\n"
     ]
    }
   ],
   "source": [
    "p = [1/6] * 6\n",
    "N = [158, 172, 164, 181, 160, 165]\n",
    "\n",
    "# Item a\n",
    "t = pearson_estimator(N, p)\n",
    "p_value = pearson_p_value(t, len(p) - 1)\n",
    "print(f'p-value: {p_value}')\n",
    "\n",
    "# Item b\n",
    "n_sim = 1000\n",
    "p_value_sim = pearson_p_value_sim(t, n_sim, p, sum(N))\n",
    "print(f'p-value (simulation): {p_value_sim}')"
   ]
  },
  {
   "cell_type": "markdown",
   "metadata": {},
   "source": [
    "### Ejercicio 9\n"
   ]
  },
  {
   "cell_type": "code",
   "execution_count": 105,
   "metadata": {},
   "outputs": [
    {
     "name": "stdout",
     "output_type": "stream",
     "text": [
      "Kolmogorov estimator: 0.24\n",
      "p-value (simulation): 0.54\n"
     ]
    }
   ],
   "source": [
    "def uniform_F(x: float) -> float:\n",
    "    return x if 0 <= x <= 1 else 0\n",
    "\n",
    "\n",
    "numbers = [0.12, 0.18, 0.06, 0.33, 0.72, 0.83, 0.36, 0.27, 0.77, 0.74]\n",
    "D = kolmogorov_estimator(numbers, uniform_F)\n",
    "print(f'Kolmogorov estimator: {D}')\n",
    "\n",
    "n_sim = 1000\n",
    "n = len(numbers)\n",
    "p_value_sim = kolmogorov_p_value_sim(D, n_sim, n)\n",
    "print(f'p-value (simulation): {p_value_sim}')"
   ]
  },
  {
   "cell_type": "markdown",
   "metadata": {},
   "source": [
    "### Ejercicio 10\n"
   ]
  },
  {
   "cell_type": "code",
   "execution_count": 106,
   "metadata": {},
   "outputs": [
    {
     "name": "stdout",
     "output_type": "stream",
     "text": [
      "Kolmogorov estimator: 0.3922544552361856\n",
      "p-value (simulation): 0.024\n"
     ]
    }
   ],
   "source": [
    "def exponential_F(x: float) -> float:\n",
    "    if x < 0:\n",
    "        return 0\n",
    "    return 1 - np.exp(-1/50 * x)\n",
    "\n",
    "\n",
    "numbers = [86, 133, 75, 22, 11, 144, 78, 122, 8, 146, 33, 41, 99]\n",
    "D = kolmogorov_estimator(numbers, exponential_F)\n",
    "print(f'Kolmogorov estimator: {D}')\n",
    "\n",
    "n_sim = 1000\n",
    "n = len(numbers)\n",
    "p_value_sim = kolmogorov_p_value_sim(D, n_sim, n)\n",
    "print(f'p-value (simulation): {p_value_sim}')"
   ]
  },
  {
   "cell_type": "markdown",
   "metadata": {},
   "source": [
    "### Ejercicio 11\n"
   ]
  },
  {
   "cell_type": "code",
   "execution_count": 134,
   "metadata": {},
   "outputs": [
    {
     "name": "stdout",
     "output_type": "stream",
     "text": [
      "With Pearson estimator, p-value: 5.0279943204278865e-05\n",
      "With Simulation, p-value: 0.009\n"
     ]
    }
   ],
   "source": [
    "N = 8\n",
    "\n",
    "\n",
    "def binomial_probability(x, p):\n",
    "    if x < 0 or x > N:\n",
    "        return 0\n",
    "    return comb(N, x) * p**x * (1 - p)**(N - x)\n",
    "\n",
    "\n",
    "# Data\n",
    "numbers = [6, 7, 3, 4, 7, 3, 7, 2, 6, 3, 7, 8, 2, 1, 3, 5, 8, 7]\n",
    "n = len(numbers)\n",
    "p_estimator = sample_mean(numbers) / N\n",
    "p = [binomial_probability(x, p_estimator) for x in range(N+1)]\n",
    "N_obs = [numbers.count(x) for x in range(N+1)]\n",
    "\n",
    "# With Pearson estimator\n",
    "t = pearson_estimator(N_obs, p)\n",
    "p_value = pearson_p_value(t, len(p) - 2)\n",
    "print(f'With Pearson estimator, p-value: {p_value}')\n",
    "\n",
    "# With Simulation\n",
    "n_sim = 1000\n",
    "p_value_sim = 0\n",
    "\n",
    "for _ in range(n_sim):\n",
    "    sample_sim = binomial_distribution(N, p_estimator, n)\n",
    "    p_sim_estimator = sample_mean(sample_sim) / N\n",
    "    N_obs_sim = [sample_sim.count(x) for x in range(N+1)]\n",
    "    t_sim = pearson_estimator(N_obs_sim, p)\n",
    "\n",
    "    if t_sim >= t:\n",
    "        p_value_sim += 1\n",
    "\n",
    "p_value_sim /= n_sim\n",
    "\n",
    "print(f'With Simulation, p-value: {p_value_sim}')"
   ]
  },
  {
   "cell_type": "markdown",
   "metadata": {},
   "source": [
    "### Ejercicio 12\n"
   ]
  },
  {
   "cell_type": "code",
   "execution_count": 136,
   "metadata": {},
   "outputs": [
    {
     "name": "stdout",
     "output_type": "stream",
     "text": [
      "With Pearson estimator, p-value: 0.36605389988682613\n",
      "With Simulation, p-value: 0.374\n"
     ]
    }
   ],
   "source": [
    "p = [0.31, 0.22, 0.12, 0.10, 0.08, 0.06, 0.04, 0.04, 0.02, 0.01]\n",
    "N = [188, 138, 87, 65, 48, 32, 30, 34, 13, 2]\n",
    "\n",
    "# With Pearson estimator\n",
    "t = pearson_estimator(N, p)\n",
    "p_value = pearson_p_value(t, len(p) - 1)\n",
    "print(f'With Pearson estimator, p-value: {p_value}')\n",
    "\n",
    "# With Simulation\n",
    "n_sim = 1000\n",
    "p_value_sim = pearson_p_value_sim(t, n_sim, p, sum(N))\n",
    "print(f'With Simulation, p-value: {p_value_sim}')"
   ]
  },
  {
   "cell_type": "markdown",
   "metadata": {},
   "source": [
    "### Ejercicio 13\n"
   ]
  },
  {
   "cell_type": "code",
   "execution_count": 140,
   "metadata": {},
   "outputs": [
    {
     "name": "stdout",
     "output_type": "stream",
     "text": [
      "Kolmogorov estimator: 0.16365846955888136\n",
      "p-value (simulation): 0.392\n"
     ]
    }
   ],
   "source": [
    "def exponential_F(x: float) -> float:\n",
    "    if x < 0:\n",
    "        return 0\n",
    "    return 1 - np.exp(-x)\n",
    "\n",
    "\n",
    "numbers = exponential_distribution(1, 30)\n",
    "D = kolmogorov_estimator(numbers, exponential_F)\n",
    "print(f'Kolmogorov estimator: {D}')\n",
    "\n",
    "n_sim = 1000\n",
    "n = len(numbers)\n",
    "p_value_sim = kolmogorov_p_value_sim(D, n_sim, n)\n",
    "print(f'p-value (simulation): {p_value_sim}')"
   ]
  },
  {
   "cell_type": "markdown",
   "metadata": {},
   "source": [
    "### Ejercicio 14\n"
   ]
  },
  {
   "cell_type": "code",
   "execution_count": 157,
   "metadata": {},
   "outputs": [
    {
     "name": "stdout",
     "output_type": "stream",
     "text": [
      "╒══════╤═════════════╤═══════════╕\n",
      "│    n │   estimator │   p-value │\n",
      "╞══════╪═════════════╪═══════════╡\n",
      "│   10 │   0.254871  │     0.457 │\n",
      "├──────┼─────────────┼───────────┤\n",
      "│   20 │   0.158162  │     0.632 │\n",
      "├──────┼─────────────┼───────────┤\n",
      "│  100 │   0.172572  │     0.003 │\n",
      "├──────┼─────────────┼───────────┤\n",
      "│ 1000 │   0.0761654 │     0     │\n",
      "╘══════╧═════════════╧═══════════╛\n"
     ]
    }
   ],
   "source": [
    "def t_student_distribution(df):\n",
    "    x = rnd.gauss(0, 1)\n",
    "    y = 2*rnd.gammavariate(0.5*df, 2)\n",
    "    return x/(sqrt(y/df))\n",
    "\n",
    "\n",
    "def normal_cumulative_z(x):\n",
    "    return erf(x/sqrt(2))/2+0.5\n",
    "\n",
    "\n",
    "headers = ['n', 'estimator', 'p-value']\n",
    "table_data = []\n",
    "\n",
    "sizes = [10, 20, 100, 1000]\n",
    "for n in sizes:\n",
    "    data = [t_student_distribution(11) for _ in range(n)]\n",
    "    D = kolmogorov_estimator(data, normal_cumulative_z)\n",
    "    p_value = kolmogorov_p_value_sim(D, 1000, n)\n",
    "    table_data.append([n, D, p_value])\n",
    "\n",
    "print(tabulate(table_data, headers, tablefmt=\"fancy_grid\"))"
   ]
  },
  {
   "cell_type": "markdown",
   "metadata": {},
   "source": [
    "### Ejercicio 15\n"
   ]
  },
  {
   "cell_type": "code",
   "execution_count": 160,
   "metadata": {},
   "outputs": [
    {
     "name": "stdout",
     "output_type": "stream",
     "text": [
      "Kolmogorov estimator: 0.26949936321059237\n",
      "p-value (simulation): 0.045\n"
     ]
    }
   ],
   "source": [
    "def exponential_F(l: float, x: float):\n",
    "    if x < 0:\n",
    "        return 0\n",
    "    return 1 - np.exp(-l * x)\n",
    "\n",
    "\n",
    "numbers = [1.6, 10.3, 3.5, 13.5, 18.4, 7.7, 24.3,\n",
    "           10.7, 8.4, 4.9, 7.9, 12, 16.2, 6.8, 14.7]\n",
    "l = 1/sample_mean(numbers)\n",
    "D = kolmogorov_estimator(numbers, lambda x: exponential_F(l, x))\n",
    "print(f'Kolmogorov estimator: {D}')\n",
    "\n",
    "n_sim = 1000\n",
    "n = len(numbers)\n",
    "p_value_sim = 0\n",
    "for _ in range(n_sim):\n",
    "    sample = exponential_distribution(l, n)\n",
    "    l_sim = 1/sample_mean(sample)\n",
    "    D_sim = kolmogorov_estimator(sample, lambda x: exponential_F(l_sim, x))\n",
    "    if D_sim >= D:\n",
    "        p_value_sim += 1\n",
    "p_value_sim /= n_sim\n",
    "print(f'p-value (simulation): {p_value_sim}')"
   ]
  },
  {
   "cell_type": "markdown",
   "metadata": {},
   "source": [
    "### Ejercicio 16\n"
   ]
  },
  {
   "cell_type": "code",
   "execution_count": 164,
   "metadata": {},
   "outputs": [
    {
     "name": "stdout",
     "output_type": "stream",
     "text": [
      "Kolmogorov estimator: 0.19638944697995597\n",
      "p-value (simulation): 0.206\n"
     ]
    }
   ],
   "source": [
    "def normal_cumulative(x: float, m: float, s: float):\n",
    "    return normal_cumulative_z((x - m) / s)\n",
    "\n",
    "\n",
    "numbers = [91.9, 97.8, 111.4, 122.3, 105.4,\n",
    "           95.0, 103.8, 99.6, 96.6, 119.3, 104.8, 101.7]\n",
    "n = len(numbers)\n",
    "m, s = sample_mean(numbers), sqrt(sample_variance(numbers))\n",
    "\n",
    "D = kolmogorov_estimator(numbers, lambda x: normal_cumulative(x, m, s))\n",
    "print(f'Kolmogorov estimator: {D}')\n",
    "\n",
    "n_sim = 1000\n",
    "p_value_sim = 0\n",
    "for _ in range(n_sim):\n",
    "    sample = normal_distribution(m, s, n)\n",
    "    m_sim, s_sim = sample_mean(sample), sqrt(sample_variance(sample))\n",
    "    D_sim = kolmogorov_estimator(\n",
    "        sample, lambda x: normal_cumulative(x, m_sim, s_sim))\n",
    "    if D_sim >= D:\n",
    "        p_value_sim += 1\n",
    "p_value_sim /= n_sim\n",
    "print(f'p-value (simulation): {p_value_sim}')"
   ]
  }
 ],
 "metadata": {
  "kernelspec": {
   "display_name": "famaf-mys",
   "language": "python",
   "name": "python3"
  },
  "language_info": {
   "codemirror_mode": {
    "name": "ipython",
    "version": 3
   },
   "file_extension": ".py",
   "mimetype": "text/x-python",
   "name": "python",
   "nbconvert_exporter": "python",
   "pygments_lexer": "ipython3",
   "version": "3.11.8"
  }
 },
 "nbformat": 4,
 "nbformat_minor": 2
}
