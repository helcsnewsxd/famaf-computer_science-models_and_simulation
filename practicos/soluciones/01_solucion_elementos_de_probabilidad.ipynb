{
 "cells": [
  {
   "cell_type": "markdown",
   "metadata": {},
   "source": [
    "# Modelos y Simulación\n",
    "\n",
    "#### Edición 2024\n",
    "\n",
    "---"
   ]
  },
  {
   "cell_type": "markdown",
   "metadata": {},
   "source": [
    "## Práctico 1: Elementos de Probabilidad"
   ]
  },
  {
   "cell_type": "markdown",
   "metadata": {},
   "source": [
    "### Ejercicio 1"
   ]
  },
  {
   "cell_type": "markdown",
   "metadata": {},
   "source": [
    "#### Enunciado"
   ]
  },
  {
   "cell_type": "markdown",
   "metadata": {},
   "source": [
    "Considere un experimento que consta de cuatro caballos, numerados del $1$ al $4$, que realizan una carrera, y suponga que el espacio muestral esta dado por\n",
    "$$S = \\{\\text{todas las permutaciones de }(1,2,3,4)\\}.$$\n",
    "\n",
    "Sea $A$ el evento en el que el caballo número $1$ está entre los tres primeros finalistas, sea $B$ el evento que el caballo número $2$ llegue en segundo lugar, y sea $C$ el evento que el caballo número $3$ llegue en tercer lugar.\n",
    "\n",
    "1. Describa el evento $AB$. ¿Cuántos resultados están contenidos en este evento?\n",
    "2. ¿Cuántos resultados están contenidos en el evento $A\\cup B$?\n",
    "3. ¿Cuántos resultados están contenidos en el evento $ABC$?\n",
    "4. ¿Cuántos resultados están contenidos en el evento $A\\cup(BC)$?"
   ]
  },
  {
   "cell_type": "markdown",
   "metadata": {},
   "source": [
    "#### Resolución"
   ]
  },
  {
   "cell_type": "markdown",
   "metadata": {},
   "source": [
    "### Ejercicio 2"
   ]
  },
  {
   "cell_type": "markdown",
   "metadata": {},
   "source": [
    "#### Enunciado"
   ]
  },
  {
   "cell_type": "markdown",
   "metadata": {},
   "source": [
    "Cualesquiera sean los eventos $A$ y $B$, muestre que\n",
    "1. $A\\cup B = A\\cup(A^c\\cap B)$, y que $A = (AB)\\cup(AB^c)$ (Ayuda: Trazar diagramas de Venn).\n",
    "2. $P(A\\cup B) = P(A) + P(B) - P(AB)$."
   ]
  },
  {
   "cell_type": "markdown",
   "metadata": {},
   "source": [
    "#### Resolución"
   ]
  },
  {
   "cell_type": "markdown",
   "metadata": {},
   "source": [
    "### Ejercicio 3"
   ]
  },
  {
   "cell_type": "markdown",
   "metadata": {},
   "source": [
    "#### Enunciado"
   ]
  },
  {
   "cell_type": "markdown",
   "metadata": {},
   "source": [
    "Se extraen dos bolas de una caja que contiene $9$ bolas azules y $7$ bolas amarillas, y el experimento es sin reposición. Si las bolas tienen todas la misma probabilidad de ser extraídas,\n",
    "1. ¿Cuál es la probabilidad de sacar dos bolas azules?\n",
    "2. ¿Cuál es la probabilidad de sacar la primera azul y la segunda amarilla?"
   ]
  },
  {
   "cell_type": "markdown",
   "metadata": {},
   "source": [
    "#### Resolución"
   ]
  },
  {
   "cell_type": "markdown",
   "metadata": {},
   "source": [
    "### Ejercicio 4"
   ]
  },
  {
   "cell_type": "markdown",
   "metadata": {},
   "source": [
    "#### Enunciado"
   ]
  },
  {
   "cell_type": "markdown",
   "metadata": {},
   "source": [
    "Un bolillero, rotulado $A$, contiene seis $(6)$ bolas rojas y cuatro $(4)$ verdes, y un segundo bolillero, rotulado $B$, contiene siete $(7)$ bolas rojas y tres $(3)$ verdes. Se realiza el siguiente experimento: Se extrae al azar una bola de $A$ y se coloca en el bolillero $B$. Luego, se extrae al azar una bola de $B$ y se la coloca en el bolillero $A$.\n",
    "1. ¿Cuáles son la probabilidades, $P(R_A)$ y $P(V_A)$ de extraer, respectivamente, una bola roja o una verde de $A$, en la primera parte del experimento?\n",
    "2. Calcule las probabilidades condicionales, $P(R_B|R_A)$, de obtener una bola roja de $B$ dado que se extrajo una roja de $A$ y $P(R_B|V_A)$, de obtener una bola roja de $B$ dado que se extrajo una verde de $A$.\n",
    "   1. Ayuda: Analice el contenido del bolillero $B$ luego de agregarle la bola proveniente de $A$.\n",
    "3. Calcule la probabilidad conjunta de obtener una bola roja de $A$ y también una roja de $B$.\n",
    "   1. Ayuda: Aplique la definición de probabilidad condicional.\n",
    "4. ¿Cuál es la probabilidad, $P(R_B)$, de extraer una bola roja de $B$?\n",
    "5. ¿Cuál es la probabilidad de que al finalizar el experimento el bolillero $A$ recupere exactamente la composición de bolas que tenía declarada al comienzo?"
   ]
  },
  {
   "cell_type": "markdown",
   "metadata": {},
   "source": [
    "#### Resolución"
   ]
  },
  {
   "cell_type": "markdown",
   "metadata": {},
   "source": [
    "### Ejercicio 5"
   ]
  },
  {
   "cell_type": "markdown",
   "metadata": {},
   "source": [
    "#### Enunciado"
   ]
  },
  {
   "cell_type": "markdown",
   "metadata": {},
   "source": [
    "La variable aleatoria $X$ toma valores en el conjunto $\\{1,2,3,4\\}$ con la siguiente probabilidad:\n",
    "$$P_i = P(X = i) = c_i \\text{ para } i = 1,2,3,4$$\n",
    "1. Determine el valor de $c$.\n",
    "2. Calcule $P(2 \\leq X \\leq 3)$.\n",
    "3. Calcule $E[X]$."
   ]
  },
  {
   "cell_type": "markdown",
   "metadata": {},
   "source": [
    "#### Resolución"
   ]
  },
  {
   "cell_type": "markdown",
   "metadata": {},
   "source": [
    "### Ejercicio 6"
   ]
  },
  {
   "cell_type": "markdown",
   "metadata": {},
   "source": [
    "#### Enunciado"
   ]
  },
  {
   "cell_type": "markdown",
   "metadata": {},
   "source": [
    "Muestre que para toda variable aleatoria $X$ se cumple:\n",
    "$$Var[aX + b] = a^2 Var[X].$$"
   ]
  },
  {
   "cell_type": "markdown",
   "metadata": {},
   "source": [
    "#### Resolución"
   ]
  },
  {
   "cell_type": "markdown",
   "metadata": {},
   "source": [
    "### Ejercicio 7"
   ]
  },
  {
   "cell_type": "markdown",
   "metadata": {},
   "source": [
    "#### Enunciado"
   ]
  },
  {
   "cell_type": "markdown",
   "metadata": {},
   "source": [
    "Defina una relación de recurrencia $P_{n+1} = f(P_n)$ para la distribución de probabilidad de Poisson. Discuta su uso para un cálculo numérico eficiente de la distribución de Poisson."
   ]
  },
  {
   "cell_type": "markdown",
   "metadata": {},
   "source": [
    "#### Resolución"
   ]
  },
  {
   "cell_type": "markdown",
   "metadata": {},
   "source": [
    "### Ejercicio 8"
   ]
  },
  {
   "cell_type": "markdown",
   "metadata": {},
   "source": [
    "#### Enunciado"
   ]
  },
  {
   "cell_type": "markdown",
   "metadata": {},
   "source": [
    "Sean $X$ e $Y$ variables aleatorias independientes con distribución de Poisson con parámetros $\\lambda_1$ y $\\lambda_2$ respectivamente. Demuestre que la variable $Z = X + Y$ tiene distribución Poisson con parámetro $\\lambda_1 + \\lambda_2$."
   ]
  },
  {
   "cell_type": "markdown",
   "metadata": {},
   "source": [
    "#### Resolución"
   ]
  },
  {
   "cell_type": "markdown",
   "metadata": {},
   "source": [
    "### Ejercicio 9"
   ]
  },
  {
   "cell_type": "markdown",
   "metadata": {},
   "source": [
    "#### Enunciado"
   ]
  },
  {
   "cell_type": "markdown",
   "metadata": {},
   "source": [
    "Un geólogo ha recolectado $10$ especímenes de roca basáltica y $12$ de granito. Si instruye a un asistente de laboratorio para que seleccione al azar $15$ de los especímenes para analizarlos, ¿cuál es la función de densidad del número de especímenes de basalto seleccionados para ser analizados?"
   ]
  },
  {
   "cell_type": "markdown",
   "metadata": {},
   "source": [
    "#### Resolución"
   ]
  },
  {
   "cell_type": "markdown",
   "metadata": {},
   "source": [
    "### Ejercicio 10"
   ]
  },
  {
   "cell_type": "markdown",
   "metadata": {},
   "source": [
    "#### Enunciado"
   ]
  },
  {
   "cell_type": "markdown",
   "metadata": {},
   "source": [
    "Pruebe que si $X \\sim P(\\lambda)$. Entonces\n",
    "$$E[X] = \\lambda \\text{ y } Var[X] = \\lambda$$\n",
    "Ayuda: $E[X^2] = E[X(X - 1)] + E[X]$"
   ]
  },
  {
   "cell_type": "markdown",
   "metadata": {},
   "source": [
    "#### Resolución"
   ]
  },
  {
   "cell_type": "markdown",
   "metadata": {},
   "source": [
    "### Ejercicio 11"
   ]
  },
  {
   "cell_type": "markdown",
   "metadata": {},
   "source": [
    "#### Enunciado"
   ]
  },
  {
   "cell_type": "markdown",
   "metadata": {},
   "source": [
    "Sean $X$ e $Y$ variables aleatorias distribuidas exponencialmente\n",
    "$$f_X(x) = \\lambda e^{-\\lambda x} \\text{ para } x > 0$$\n",
    "$$f_Y(y) = \\mu e^{-\\mu y} \\text{ para } y > 0$$\n",
    "1. Calcule $f_{X|Y}(x|y)$.\n",
    "2. Calcule $P(X < Y)$."
   ]
  },
  {
   "cell_type": "markdown",
   "metadata": {},
   "source": [
    "#### Resolución"
   ]
  },
  {
   "cell_type": "markdown",
   "metadata": {},
   "source": [
    "### Ejercicio 12"
   ]
  },
  {
   "cell_type": "markdown",
   "metadata": {},
   "source": [
    "#### Enunciado"
   ]
  },
  {
   "cell_type": "markdown",
   "metadata": {},
   "source": [
    "Sean $X$ e $Y$ variables aleatorias independientes e idénticamente distribuidas de forma exponencial. Calcule la densidad de probabilidad condicional de $X$ dado que $X + Y = t$."
   ]
  },
  {
   "cell_type": "markdown",
   "metadata": {},
   "source": [
    "#### Resolución"
   ]
  },
  {
   "cell_type": "markdown",
   "metadata": {},
   "source": [
    "### Ejercicio 13"
   ]
  },
  {
   "cell_type": "markdown",
   "metadata": {},
   "source": [
    "#### Enunciado"
   ]
  },
  {
   "cell_type": "markdown",
   "metadata": {},
   "source": [
    "La vida útil de cierto refrigerador está distribuida de manera aproximadamente normal con media $4.8$ años y desvío $1.4$ años.\n",
    "1. Si el aparato tiene garantía por dos años. ¿Cuál es la probabilidad de que un refrigerador del tipo especificado elegido al azar, deba reemplazarse dentro del período de garantía?\n",
    "2. Si el fabricante está dispuesto a reponer sólo el $0.5\\%$ de los refrigeradores. ¿Cuál es el período de garantía que debe ofrecer?"
   ]
  },
  {
   "cell_type": "markdown",
   "metadata": {},
   "source": [
    "#### Resolución"
   ]
  },
  {
   "cell_type": "markdown",
   "metadata": {},
   "source": [
    "### Ejercicio 14"
   ]
  },
  {
   "cell_type": "markdown",
   "metadata": {},
   "source": [
    "#### Enunciado"
   ]
  },
  {
   "cell_type": "markdown",
   "metadata": {},
   "source": [
    "Encuentre una aproximación a la probabilidad de que el número de unos obtenidos al arrojar $12000$ veces un dado esté entre $1900$ y $2150$."
   ]
  },
  {
   "cell_type": "markdown",
   "metadata": {},
   "source": [
    "#### Resolución"
   ]
  },
  {
   "cell_type": "markdown",
   "metadata": {},
   "source": [
    "### Ejercicio 15"
   ]
  },
  {
   "cell_type": "markdown",
   "metadata": {},
   "source": [
    "#### Enunciado"
   ]
  },
  {
   "cell_type": "markdown",
   "metadata": {},
   "source": [
    "Un jugador juega quiniela un día. Apuesta una cantidad $c$ a un número entre $0,1,...,99$. Se le paga $70$ si sale el número elegido por el jugador y nada en caso contrario. Sea $G$ la variable aleatoria que da la ganancia del juego.\n",
    "1. Si el valor de la apuesta es de $1$, ¿Cuál es la ganancia esperada del jugador?\n",
    "2. El jugador juega todos los días durante dos meses (o sea $60$ días en total). ¿Cuál es la probabilidad aproximada que pierda más de $15$ pesos en esos dos meses?\n",
    "3. ¿Cuánto debería valer la apuesta $c$ para que el valor esperado de la ganancia sea $0$?"
   ]
  },
  {
   "cell_type": "markdown",
   "metadata": {},
   "source": [
    "#### Resolución"
   ]
  }
 ],
 "metadata": {
  "kernelspec": {
   "display_name": "famaf-mys",
   "language": "python",
   "name": "python3"
  },
  "language_info": {
   "name": "python",
   "version": "3.11.8"
  }
 },
 "nbformat": 4,
 "nbformat_minor": 2
}
