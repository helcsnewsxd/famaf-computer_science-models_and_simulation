{
 "cells": [
  {
   "cell_type": "markdown",
   "metadata": {},
   "source": [
    "# Práctico 3: Números Aleatorios y Método de Monte Carlo"
   ]
  },
  {
   "cell_type": "markdown",
   "metadata": {},
   "source": [
    "## Algoritmos"
   ]
  },
  {
   "cell_type": "code",
   "execution_count": 1,
   "metadata": {},
   "outputs": [
    {
     "name": "stdout",
     "output_type": "stream",
     "text": [
      "2 is prime: True\n",
      "15 is prime: False\n",
      "12345 is prime: False\n",
      "127 is prime: True\n",
      "8191 is prime: True\n",
      "Factors of 2: {2: 1}\n",
      "Factors of 15: {3: 1, 5: 1}\n",
      "Factors of 12345: {3: 1, 5: 1, 823: 1}\n",
      "Factors of 127: {127: 1}\n",
      "Factors of 8191: {8191: 1}\n"
     ]
    }
   ],
   "source": [
    "import math\n",
    "import random as rnd\n",
    "\n",
    "def isPrime(n: int) -> bool:\n",
    "    \"\"\"\n",
    "    Check if a number is prime\n",
    "    \"\"\"\n",
    "    if n == 1: return False\n",
    "    elif n % 2 == 0: return n == 2\n",
    "    \n",
    "    i = 3\n",
    "    while i*i <= n:\n",
    "        if n % i == 0: return False\n",
    "        i += 2\n",
    "    return True\n",
    "\n",
    "def factorize(n: int) -> dict:\n",
    "    \"\"\"\n",
    "    Factorize a number into its prime factors\n",
    "    \"\"\"\n",
    "    factors = dict()\n",
    "    i = 2\n",
    "    while i <= n:\n",
    "        while n % i == 0:\n",
    "            factors[i] = factors.get(i, 0) + 1\n",
    "            n //= i\n",
    "        i += 1\n",
    "    return factors\n",
    "\n",
    "def isPrimitiveRoot_forPrime(n: int, m: int) -> bool:\n",
    "    \"\"\"\n",
    "    Check if n is a primitive root of m (with m prime)\n",
    "    \"\"\"\n",
    "    assert isPrime(m)\n",
    "    primes = factorize(m-1)\n",
    "    for p in primes:\n",
    "        if pow(n, (m-1)//p, m) == 1: return False\n",
    "    return True\n",
    "\n",
    "if __name__ == \"__main__\":\n",
    "    numbers = [2, 15, 12_345, 2**7-1, 2**13-1]\n",
    "    # Test the isPrime function\n",
    "    for n in numbers:\n",
    "        print(f\"{n} is prime: {isPrime(n)}\")\n",
    "\n",
    "    # Test the factorize function\n",
    "    for n in numbers:\n",
    "        print(f\"Factors of {n}: {factorize(n)}\")\n",
    "    \n",
    "    # Test the isPrimitiveRoot_forPrime function\n",
    "    true_cases = [\n",
    "        [2, [1]],\n",
    "        [3, [2]],\n",
    "        [5, [2, 3]],\n",
    "        [7, [3, 5]],\n",
    "        [11, [2, 6, 7, 8]],\n",
    "        [13, [2, 6, 7, 11]],\n",
    "    ]\n",
    "    for m, roots in true_cases:\n",
    "        for root in roots:\n",
    "            assert isPrimitiveRoot_forPrime(root, m)\n",
    "\n",
    "    false_cases = [\n",
    "        [3, [1]],\n",
    "        [5, [1, 4]],\n",
    "        [7, [1, 2, 4, 6]],\n",
    "        [11, [1, 3, 4, 5, 9, 10]],\n",
    "        [13, [1, 3, 4, 5, 9, 10, 12]],\n",
    "    ]\n",
    "    for m, roots in false_cases:\n",
    "        for root in roots:\n",
    "            assert not isPrimitiveRoot_forPrime(root, m)"
   ]
  },
  {
   "cell_type": "markdown",
   "metadata": {},
   "source": [
    "### Von Neumann"
   ]
  },
  {
   "cell_type": "code",
   "execution_count": 2,
   "metadata": {},
   "outputs": [
    {
     "name": "stdout",
     "output_type": "stream",
     "text": [
      "n, seed = 10, 4010: [4010, 801, 6416, 1650, 7225, 2006, 240, 576, 3317, 24]\n",
      "n, seed = 10, 2100: [2100, 4100, 8100, 6100, 2100, 4100, 8100, 6100, 2100, 4100]\n",
      "n, seed = 10, 3792: [3792, 3792, 3792, 3792, 3792, 3792, 3792, 3792, 3792, 3792]\n",
      "n, seed = 10, 1234: [1234, 5227, 3215, 3362, 3030, 1809, 2724, 4201, 6484, 422]\n"
     ]
    }
   ],
   "source": [
    "def vonNeumann(seed: int, n: int) -> list[int]:\n",
    "    \"\"\"\n",
    "    Generate a list of n pseudo-random numbers using the Von Neumann method.\n",
    "    \"\"\"\n",
    "    numbers = []\n",
    "    for i in range(n):\n",
    "        numbers.append(seed)\n",
    "        seed = (seed ** 2 // 100) % 10_000\n",
    "    return numbers\n",
    "\n",
    "# Test the function with the example values\n",
    "if __name__ == \"__main__\":\n",
    "    n = 10\n",
    "    seed_list = [4010, 2100, 3792, 1234]\n",
    "    for seed in seed_list:\n",
    "        print(f\"n, seed = {n}, {seed}: {vonNeumann(seed, n)}\")"
   ]
  },
  {
   "cell_type": "markdown",
   "metadata": {},
   "source": [
    "### Generadores congruenciales lineales"
   ]
  },
  {
   "cell_type": "code",
   "execution_count": 3,
   "metadata": {},
   "outputs": [
    {
     "name": "stdout",
     "output_type": "stream",
     "text": [
      "seed, a, c, m, n = [0, 5, 1, 16], 20: [0, 1, 6, 15, 12, 13, 2, 11, 8, 9, 14, 7, 4, 5, 10, 3, 0, 1, 6, 15]\n",
      "seed, a, c, m, n = [1, 1, 11, 22], 20: [1, 12, 1, 12, 1, 12, 1, 12, 1, 12, 1, 12, 1, 12, 1, 12, 1, 12, 1, 12]\n",
      "seed, a, c, m, n = [0, 1, 1, 15], 20: [0, 1, 2, 3, 4, 5, 6, 7, 8, 9, 10, 11, 12, 13, 14, 0, 1, 2, 3, 4]\n",
      "seed, a, c, m, n = [0, 5, 3, 16], 20: [0, 3, 2, 13, 4, 7, 6, 1, 8, 11, 10, 5, 12, 15, 14, 9, 0, 3, 2, 13]\n",
      "seed, a, c, m, n = [0, 1103515245, 12345, 4294967296], 20: [0, 12345, 3554416254, 2802067423, 3596950572, 229283573, 3256818826, 1051550459, 3441282840, 2941955441, 551188310, 2951033815, 1772930244, 2518396845, 639546082, 1381971571, 1695770928, 2121308585, 3866696494, 3144468175]\n",
      "seed, a, c, m, n = [1, 2, 0, 19], 20: [1, 2, 4, 8, 16, 13, 7, 14, 9, 18, 17, 15, 11, 3, 6, 12, 5, 10, 1, 2]\n",
      "seed, a, c, m, n = [1, 32, 0, 19], 20: [1, 13, 17, 12, 4, 14, 11, 10, 16, 18, 6, 2, 7, 15, 5, 8, 9, 3, 1, 13]\n",
      "seed, a, c, m, n = [1, 16807, 0, 2147483647], 20: [1, 16807, 282475249, 1622650073, 984943658, 1144108930, 470211272, 101027544, 1457850878, 1458777923, 2007237709, 823564440, 1115438165, 1784484492, 74243042, 114807987, 1137522503, 1441282327, 16531729, 823378840]\n",
      "seed, a, c, m = [0, 5, 1, 16]: 16\n",
      "seed, a, c, m = [1, 1, 11, 22]: 2\n",
      "seed, a, c, m = [0, 1, 1, 15]: 15\n",
      "seed, a, c, m = [0, 5, 3, 16]: 16\n",
      "seed, a, c, m = [0, 1103515245, 12345, 4294967296]: 4294967296\n",
      "seed, a, c, m = [1, 2, 0, 19]: 18\n",
      "seed, a, c, m = [1, 32, 0, 19]: 18\n",
      "seed, a, c, m = [1, 16807, 0, 2147483647]: 2147483646\n"
     ]
    }
   ],
   "source": [
    "def congruentialGenerator(seed: int, a: int, c: int, m: int, n: int) -> list[int]:\n",
    "    \"\"\"\n",
    "    Generate a list of n pseudo-random numbers using the congruential generator method.\n",
    "    \"\"\"\n",
    "    numbers = []\n",
    "    for i in range(n):\n",
    "        numbers.append(seed)\n",
    "        seed = (a * seed + c) % m\n",
    "    return numbers\n",
    "\n",
    "def periodBrute_congruentialGenerator(seed: int, a: int, c: int, m: int) -> int:\n",
    "    \"\"\"\n",
    "    Calculate the period of the congruential generator method with brute force.\n",
    "    \"\"\"\n",
    "    periods = []\n",
    "    seeds = range(m) if seed is None else [seed]\n",
    "    for seed in seeds:\n",
    "        numbers = dict()\n",
    "        while seed not in numbers:\n",
    "            numbers[seed] = len(numbers)\n",
    "            seed = (a * seed + c) % m\n",
    "        periods.append(len(numbers) - numbers[seed])\n",
    "    return max(periods)\n",
    "\n",
    "def period_congruentialGenerator(seed: int, a: int, c: int, m: int) -> int:\n",
    "    \"\"\"\n",
    "    Calculate the period of the congruential generator method.\n",
    "    \"\"\"\n",
    "    # If the generator is mixed and has the biggest period\n",
    "    if c != 0 and math.gcd(c, m) == 1 and (a % p == 1 for p in factorize(m).keys()) and (m % 4 == 0) == (a % 4 == 1):\n",
    "        return m\n",
    "    \n",
    "    # If the generator is multiplicative and has the biggest period\n",
    "    if c == 0 and isPrime(m) and isPrimitiveRoot_forPrime(a, m):\n",
    "        return m-1\n",
    "    \n",
    "    # Otherwise, calculate the period with brute force\n",
    "    return periodBrute_congruentialGenerator(seed, a, c, m)\n",
    "\n",
    "if __name__ == \"__main__\":\n",
    "    # Test the congruentialGenerator function\n",
    "    test_cases = [\n",
    "        [0, 5, 1, 16, 20],\n",
    "        [1, 1, 11, 22, 20],\n",
    "        [0, 1, 1, 15, 20],\n",
    "\n",
    "        # Mixed generator with biggest period\n",
    "        [0, 5, 3, 16, 20],\n",
    "        [0, 1_103_515_245, 12_345, 2**32, 20], # ANSI C\n",
    "        \n",
    "        # Multiplicative generator with biggest period\n",
    "        [1, 2, 0, 19, 20],\n",
    "        [1, 2**5, 0, 19, 20],\n",
    "        [1, 7**5, 0, 2**31-1, 20],\n",
    "    ]\n",
    "\n",
    "    for test in test_cases:\n",
    "        print(f\"seed, a, c, m, n = {test[:4]}, {test[4]}: {congruentialGenerator(*test)}\")\n",
    "    \n",
    "    # Test the period_congruentialGenerator function\n",
    "    for test in test_cases:\n",
    "        print(f\"seed, a, c, m = {test[:4]}: {period_congruentialGenerator(*test[:4])}\")    \n"
   ]
  },
  {
   "cell_type": "markdown",
   "metadata": {},
   "source": [
    "### Método de Monte Carlo"
   ]
  },
  {
   "cell_type": "code",
   "execution_count": 4,
   "metadata": {},
   "outputs": [],
   "source": [
    "def monteCarlo(f: callable, a: float, b: float, n: int) -> float:\n",
    "    \"\"\"\n",
    "    Estimate the integral of f from a to b using the Monte Carlo method.\n",
    "    a, b: interval [a, b]\n",
    "    b is inf. if b is None\n",
    "    \"\"\"\n",
    "    def estimate(f: callable, a: float, b: float, n: int) -> float:\n",
    "        \"\"\"\n",
    "        Do the estimation method for fixed interval [a, b]\n",
    "        \"\"\"\n",
    "        r = 0\n",
    "        for i in range(n):\n",
    "            x = rnd.random()\n",
    "            r += f(a + (b - a) * x)\n",
    "        return (b - a) * r / n\n",
    "\n",
    "    g = lambda x: f(1/x - 1) / x**2\n",
    "    match b:\n",
    "        case None: return estimate(g, 0, 1, n) + estimate(f, a, 0, n)\n",
    "        case _: return estimate(f, a, b, n)\n",
    "\n",
    "def monteCarlo_multiple(f: callable, I: list[tuple[float, float]], n: int) -> float:\n",
    "    \"\"\"\n",
    "    Estimate the multiple integral of function f over intervals in I using the Monte Carlo method.\n",
    "    I[i][0], I[i][1]: interval [a, b]\n",
    "        b is inf. if b is None => a must be 0\n",
    "    f: function to integrate, takes a list of variables\n",
    "    \"\"\"\n",
    "    def estimate(f: callable, I: list[tuple[float, float]], n: int) -> float:\n",
    "        \"\"\"\n",
    "        Do the estimation method for fixed intervals\n",
    "        \"\"\"\n",
    "        r = 0\n",
    "        for i in range(n):\n",
    "            x = [rnd.random() for _ in range(len(I))]\n",
    "            r += f(x, I)\n",
    "        m = 1\n",
    "        for i in range(len(I)): m *= I[i][1] - I[i][0] if I[i][1] is not None else 1\n",
    "        return m * r / n\n",
    "\n",
    "    def g(x: list[float], I: list[tuple[float, float]]) -> float:\n",
    "        \"\"\"\n",
    "        Function to estimate with fixed intervals [a, b]\n",
    "        \"\"\"\n",
    "        denominator = 1\n",
    "        for i in range(len(I)):\n",
    "            if I[i][1] is None:\n",
    "                assert I[i][0] == 0\n",
    "                denominator *= x[i]**2\n",
    "                x[i] = 1/x[i] - 1\n",
    "            else:\n",
    "                x[i] = I[i][0] + (I[i][1] - I[i][0]) * x[i]\n",
    "        return f(x) / denominator\n",
    "\n",
    "    return estimate(g, I, n)"
   ]
  },
  {
   "cell_type": "markdown",
   "metadata": {},
   "source": [
    "## Ejercicio 1"
   ]
  },
  {
   "cell_type": "markdown",
   "metadata": {},
   "source": [
    "### Item (a)"
   ]
  },
  {
   "cell_type": "code",
   "execution_count": 5,
   "metadata": {},
   "outputs": [
    {
     "name": "stdout",
     "output_type": "stream",
     "text": [
      "[3792, 3792, 3792, 3792, 3792, 3792, 3792, 3792, 3792, 3792]\n",
      "[1004, 80, 64, 40, 16, 2, 0, 0, 0, 0]\n",
      "[2100, 4100, 8100, 6100, 2100, 4100, 8100, 6100, 2100, 4100]\n",
      "[1234, 5227, 3215, 3362, 3030, 1809, 2724, 4201, 6484, 422]\n"
     ]
    }
   ],
   "source": [
    "n = 10\n",
    "seeds = [3792, 1004, 2100, 1234]\n",
    "for seed in seeds:\n",
    "    print(vonNeumann(seed, n))"
   ]
  },
  {
   "cell_type": "markdown",
   "metadata": {},
   "source": [
    "### Item (b)"
   ]
  },
  {
   "cell_type": "code",
   "execution_count": 6,
   "metadata": {},
   "outputs": [
    {
     "name": "stdout",
     "output_type": "stream",
     "text": [
      "CASO con seed = 4\n",
      "[4, 24, 28, 16, 20, 8, 12, 0, 4, 24]\n",
      "8\n",
      "CASO con seed = 50\n",
      "[50, 30, 26, 6, 2, 14, 10, 22, 18, 30]\n",
      "8\n"
     ]
    }
   ],
   "source": [
    "a = 5\n",
    "c = 4\n",
    "m = 2**5\n",
    "n = 10\n",
    "seed_list = [4, 50]\n",
    "for seed in seed_list:\n",
    "    print(f\"CASO con seed = {seed}\")\n",
    "    print(congruentialGenerator(seed, a, c, m, n))\n",
    "    print(period_congruentialGenerator(seed, a, c, m))"
   ]
  },
  {
   "cell_type": "markdown",
   "metadata": {},
   "source": [
    "### Item (c)"
   ]
  },
  {
   "cell_type": "code",
   "execution_count": 7,
   "metadata": {},
   "outputs": [
    {
     "name": "stdout",
     "output_type": "stream",
     "text": [
      "El caso: a, c, m = 125, 3, 512 tiene período = 512\n",
      " Luego, el período  es máximo.\n",
      "El caso: a, c, m = 123, 3, 512 tiene período = 256\n",
      " Luego, el período no es máximo.\n",
      "El caso: a, c, m = 5, 0, 71 tiene período = 5\n",
      " Luego, el período no es máximo.\n",
      "El caso: a, c, m = 7, 0, 71 tiene período = 70\n",
      " Luego, el período  es máximo.\n"
     ]
    }
   ],
   "source": [
    "cases = [\n",
    "    [None, 125, 3, 2**9],\n",
    "    [None, 123, 3, 2**9],\n",
    "    [None, 5, 0, 71],\n",
    "    [None, 7, 0, 71]\n",
    "]\n",
    "\n",
    "for seed, a, c, m in cases:\n",
    "    period = period_congruentialGenerator(seed, a, c, m)\n",
    "    print(f\"El caso: a, c, m = {a}, {c}, {m} tiene período = {period}\")\n",
    "    print(f\" Luego, el período {'no' if period != m - (c == 0) else ''} es máximo.\")"
   ]
  },
  {
   "cell_type": "markdown",
   "metadata": {},
   "source": [
    "## Ejercicio 2"
   ]
  },
  {
   "cell_type": "code",
   "execution_count": 8,
   "metadata": {},
   "outputs": [
    {
     "name": "stdout",
     "output_type": "stream",
     "text": [
      "El valor real de la probabilidad teórica es: 0.6666666666666666\n",
      "Los valores de las probabilidades simuladas son:\n",
      "Para n = 100: 0.7\n",
      "Para n = 1000: 0.626\n",
      "Para n = 10000: 0.663\n",
      "Para n = 100000: 0.66696\n",
      "Para n = 1000000: 0.667077\n"
     ]
    }
   ],
   "source": [
    "def ej2_game() -> bool:\n",
    "    \"\"\"\n",
    "    Simulate the game\n",
    "    \"\"\"\n",
    "    u = rnd.random()\n",
    "    n = 2 if u < 0.5 else 3\n",
    "    sw = sum([rnd.random() for i in range(n)])\n",
    "    return sw >= 1\n",
    "\n",
    "def ej2_simulation(n: int) -> float:\n",
    "    cntWin = 0\n",
    "    for i in range(n):\n",
    "        cntWin += ej2_game()\n",
    "    return cntWin / n\n",
    "\n",
    "n_list = [10**2, 10**3, 10**4, 10**5, 10**6]\n",
    "print(f\"El valor real de la probabilidad teórica es: {2/3}\")\n",
    "print(f\"Los valores de las probabilidades simuladas son:\")\n",
    "for n in n_list:\n",
    "    print(f\"Para n = {n}: {ej2_simulation(n)}\")"
   ]
  },
  {
   "cell_type": "markdown",
   "metadata": {},
   "source": [
    "## Ejercicio 3"
   ]
  },
  {
   "cell_type": "code",
   "execution_count": 9,
   "metadata": {},
   "outputs": [
    {
     "name": "stdout",
     "output_type": "stream",
     "text": [
      "El valor real de la probabilidad teórica es: 0.8888888888888888\n",
      "Los valores de las probabilidades simuladas son:\n",
      "Para n = 100: 0.95\n",
      "Para n = 1000: 0.894\n",
      "Para n = 10000: 0.889\n",
      "Para n = 100000: 0.88981\n",
      "Para n = 1000000: 0.889671\n"
     ]
    }
   ],
   "source": [
    "def ej3_game() -> bool:\n",
    "    \"\"\"\n",
    "    Simulate the game\n",
    "    \"\"\"\n",
    "    u = rnd.random()\n",
    "    n = 2 if u < 1/3 else 3\n",
    "    sw = sum([rnd.random() for i in range(n)])\n",
    "    return sw <= 2\n",
    "\n",
    "def ej3_simulation(n: int) -> float:\n",
    "    cntWin = 0\n",
    "    for i in range(n):\n",
    "        cntWin += ej3_game()\n",
    "    return cntWin / n\n",
    "\n",
    "n_list = [10**2, 10**3, 10**4, 10**5, 10**6]\n",
    "print(f\"El valor real de la probabilidad teórica es: {8/9}\")\n",
    "print(f\"Los valores de las probabilidades simuladas son:\")\n",
    "for n in n_list:\n",
    "    print(f\"Para n = {n}: {ej3_simulation(n)}\")"
   ]
  },
  {
   "cell_type": "markdown",
   "metadata": {},
   "source": [
    "## Ejercicio 4"
   ]
  },
  {
   "cell_type": "code",
   "execution_count": 10,
   "metadata": {},
   "outputs": [
    {
     "name": "stdout",
     "output_type": "stream",
     "text": [
      "La probabilidad de que un cliente espere menos de 4 minutos es: 0.65114\n",
      "Las probabilidades de elección de cada caja dado que el cliente esperó más de 4 minutos son: [0.3025600553587309, 0.3351547957074108, 0.3600404896502621]\n"
     ]
    }
   ],
   "source": [
    "from scipy.stats import expon\n",
    "\n",
    "def ej4_simulation_a(n: int, m: list[float], p: list[float]) -> float:\n",
    "    cntWin = 0\n",
    "    time_list = [expon.rvs(scale=m[i], size=n) for i in range(3)]\n",
    "    idx = [0, 0, 0]\n",
    "    for i in range(n):\n",
    "        c = rnd.random(); i = 0\n",
    "        while c-p[i] > 0: c -= p[i]; i += 1\n",
    "        time = time_list[i][idx[i]]; idx[i] += 1\n",
    "        cntWin += time <= 4\n",
    "    return cntWin / n\n",
    "\n",
    "def ej4_simulation_b(n: int, m: list[float], p: list[float]) -> float:\n",
    "    cntWin = [0, 0, 0]\n",
    "    idx = [0, 0, 0]\n",
    "    time_list = [expon.rvs(scale=m[i], size=n) for i in range(3)]\n",
    "    for i in range(n):\n",
    "        c = rnd.random(); i = 0\n",
    "        while c-p[i] > 0: c -= p[i]; i += 1\n",
    "        time = time_list[i][idx[i]]; idx[i] += 1\n",
    "        if time >= 4: cntWin[i] += 1\n",
    "    prob_ge_4 = 1 - ej4_simulation_a(n, m, p)\n",
    "    for i in range(3): cntWin[i] /= prob_ge_4 * n\n",
    "    return cntWin\n",
    "\n",
    "\n",
    "n = 10**6\n",
    "m = [3, 4, 5]\n",
    "p = [0.4, 0.32, 0.28]\n",
    "\n",
    "print(f\"La probabilidad de que un cliente espere menos de 4 minutos es: {ej4_simulation_a(n, m, p)}\")\n",
    "print(f\"Las probabilidades de elección de cada caja dado que el cliente esperó más de 4 minutos son: {ej4_simulation_b(n, m, p)}\")"
   ]
  },
  {
   "cell_type": "markdown",
   "metadata": {},
   "source": [
    "## Ejercicio 5"
   ]
  },
  {
   "cell_type": "code",
   "execution_count": 11,
   "metadata": {},
   "outputs": [
    {
     "name": "stdout",
     "output_type": "stream",
     "text": [
      "Vemos la integral: int_0^1 (1-x^2)^{3/2} dx = 0.589, y los valores de la simulación son:\n",
      "    Para n = 100: 0.6141645800312137\n",
      "    Para n = 1000: 0.5955490078453325\n",
      "    Para n = 10000: 0.5897399198517184\n",
      "    Para n = 100000: 0.5901210189407929\n",
      "    Para n = 1000000: 0.5887392685297388\n",
      "\n",
      "Vemos la integral: int_2^3 x/(x^2-1) dx = 0.49, y los valores de la simulación son:\n",
      "    Para n = 100: 0.48723193916528\n",
      "    Para n = 1000: 0.4922942381054338\n",
      "    Para n = 10000: 0.4898750089632712\n",
      "    Para n = 100000: 0.4906944319406067\n",
      "    Para n = 1000000: 0.4902770934331875\n",
      "\n",
      "Vemos la integral: int_0^inf x*(1+x^2)^{-2} dx = 0.5, y los valores de la simulación son:\n",
      "    Para n = 100: 0.4913457845952184\n",
      "    Para n = 1000: 0.48757411565381054\n",
      "    Para n = 10000: 0.5013399466800501\n",
      "    Para n = 100000: 0.50019740912655\n",
      "    Para n = 1000000: 0.4996790167081169\n",
      "\n",
      "Vemos la integral: int_{-inf}^inf e^{-x^2} dx = 1.77, y los valores de la simulación son:\n",
      "    Como es una funcion par, calculamos la integral en [0, inf] y la multiplicamos por 2\n",
      "    Para n = 100: 1.864762951546185\n",
      "    Para n = 1000: 1.8097963954288916\n",
      "    Para n = 10000: 1.7770413754338799\n",
      "    Para n = 100000: 1.774635104288528\n",
      "    Para n = 1000000: 1.771576632830505\n",
      "\n",
      "Vemos la integral: int_0^1 int_0^1 e^{(x+y)^2} dx dy = 4.8991, y los valores de la simulación son:\n",
      "    Para n = 100: 5.628565606936818\n",
      "    Para n = 1000: 4.725672367067015\n",
      "    Para n = 10000: 4.846211385047465\n",
      "    Para n = 100000: 4.88310978755903\n",
      "    Para n = 1000000: 4.895114629959665\n",
      "\n",
      "Vemos la integral: int_0^inf int_0^x e^{-(x+y)} dy dx = 0.5, y los valores de la simulación son:\n",
      "    Consideramos int_0^inf int_0^inf g(x, y) dy dx con g(x) = e^{-(x+y)} if x > y, 0 otherwise\n",
      "    Para n = 100: 0.5054661119540597\n",
      "    Para n = 1000: 0.5084017684159835\n",
      "    Para n = 10000: 0.5007553536199965\n",
      "    Para n = 100000: 0.5003080644894948\n",
      "    Para n = 1000000: 0.4996462241818773\n",
      "\n"
     ]
    }
   ],
   "source": [
    "n_list = [10**i for i in range(2, 7)]\n",
    "\n",
    "# Item a: int_0^1 (1-x^2)^{3/2} dx = 3*pi/16 = 0.589\n",
    "print(f\"Vemos la integral: int_0^1 (1-x^2)^{{3/2}} dx = 0.589, y los valores de la simulación son:\")\n",
    "f = lambda x: (1-x**2)**(3/2)\n",
    "for n in n_list:\n",
    "    print(f\"    Para n = {n}: {monteCarlo(f, 0, 1, n)}\")\n",
    "print()\n",
    "\n",
    "# Item b: int_2^3 x/(x^2-1)dx = 1/2 log(8/3) = 0.49\n",
    "print(f\"Vemos la integral: int_2^3 x/(x^2-1) dx = 0.49, y los valores de la simulación son:\")\n",
    "f = lambda x: x/(x**2-1)\n",
    "for n in n_list:\n",
    "    print(f\"    Para n = {n}: {monteCarlo(f, 2, 3, n)}\")\n",
    "print()\n",
    "\n",
    "# Item c: int_0^inf x*(1+x^2)^{-2} dx = 0.5\n",
    "print(f\"Vemos la integral: int_0^inf x*(1+x^2)^{{-2}} dx = 0.5, y los valores de la simulación son:\")\n",
    "f = lambda x: x*(1+x**2)**(-2)\n",
    "for n in n_list:\n",
    "    print(f\"    Para n = {n}: {monteCarlo(f, 0, None, n)}\")\n",
    "print()\n",
    "\n",
    "# Item d: int_{-inf}^inf e^{-x^2} dx = sqrt(pi) = 1.77\n",
    "print(f\"Vemos la integral: int_{{-inf}}^inf e^{{-x^2}} dx = 1.77, y los valores de la simulación son:\")\n",
    "print(f\"    Como es una funcion par, calculamos la integral en [0, inf] y la multiplicamos por 2\")\n",
    "f = lambda x: math.exp(-x**2)\n",
    "for n in n_list:\n",
    "    print(f\"    Para n = {n}: {2*monteCarlo(f, 0, None, n)}\")\n",
    "print()\n",
    "\n",
    "# Item e: int_0^1 int_0^1 e^{(x+y)^2} dx dy = 4.8991\n",
    "print(f\"Vemos la integral: int_0^1 int_0^1 e^{{(x+y)^2}} dx dy = 4.8991, y los valores de la simulación son:\")\n",
    "f = lambda x: math.exp((x[0]+x[1])**2)\n",
    "for n in n_list:\n",
    "    print(f\"    Para n = {n}: {monteCarlo_multiple(f, [(0, 1), (0, 1)], n)}\")\n",
    "print()\n",
    "\n",
    "# Item f: int_0^inf int_0^x e^{-(x+y)} dy dx = 0.5\n",
    "print(f\"Vemos la integral: int_0^inf int_0^x e^{{-(x+y)}} dy dx = 0.5, y los valores de la simulación son:\")\n",
    "print(f\"    Consideramos int_0^inf int_0^inf g(x, y) dy dx con g(x) = e^{{-(x+y)}} if x > y, 0 otherwise\")\n",
    "f = lambda x: math.exp(-(x[0]+x[1])) if x[0] > x[1] else 0\n",
    "for n in n_list:\n",
    "    print(f\"    Para n = {n}: {monteCarlo_multiple(f, [(0, None), (0, None)], n)}\")\n",
    "print()"
   ]
  },
  {
   "cell_type": "markdown",
   "metadata": {},
   "source": [
    "## Ejercicio 6"
   ]
  },
  {
   "cell_type": "code",
   "execution_count": 12,
   "metadata": {},
   "outputs": [
    {
     "name": "stdout",
     "output_type": "stream",
     "text": [
      "Vamos a considerar la función f(x, y) = 1 si x^2 + y^2 <= 1, 0 otherwise\n",
      "La integral de f(x, y) en el círculo de radio 1 es pi = 3.141592653589793\n",
      "Los valores de la simulación son:\n",
      "    Para n = 1000: 3.076\n",
      "    Para n = 10000: 3.132\n",
      "    Para n = 100000: 3.14412\n"
     ]
    }
   ],
   "source": [
    "print(f\"Vamos a considerar la función f(x, y) = 1 si x^2 + y^2 <= 1, 0 otherwise\")\n",
    "n_list = [10**i for i in range(3, 6)]\n",
    "f = lambda x: 1 if x[0]**2 + x[1]**2 <= 1 else 0\n",
    "print(f\"La integral de f(x, y) en el círculo de radio 1 es pi = {math.pi}\")\n",
    "print(f\"Los valores de la simulación son:\")\n",
    "for n in n_list:\n",
    "    print(f\"    Para n = {n}: {monteCarlo_multiple(f, [(-1, 1), (-1, 1)], n)}\")"
   ]
  },
  {
   "cell_type": "markdown",
   "metadata": {},
   "source": [
    "## Ejercicio 7"
   ]
  },
  {
   "cell_type": "code",
   "execution_count": 13,
   "metadata": {},
   "outputs": [
    {
     "name": "stdout",
     "output_type": "stream",
     "text": [
      "El valor real de la probabilidad teórica es: e = 2.718281828459045\n",
      "Los valores de las probabilidades simuladas son:\n",
      "    Para n = 100: 2.78\n",
      "    Para n = 1000: 2.717\n",
      "    Para n = 10000: 2.7169\n",
      "    Para n = 100000: 2.7217\n",
      "    Para n = 1000000: 2.719051\n"
     ]
    }
   ],
   "source": [
    "def ej7_simulation(n: int) -> float:\n",
    "    expected = 0\n",
    "    for i in range(n):\n",
    "        s = 0\n",
    "        cntWin = 0\n",
    "        while s < 1:\n",
    "            s += rnd.random()\n",
    "            cntWin += 1\n",
    "        expected += cntWin\n",
    "    return expected / n\n",
    "\n",
    "n_list = [10**i for i in range(2, 7)]\n",
    "print(f\"El valor real de la probabilidad teórica es: e = {math.e}\")\n",
    "print(f\"Los valores de las probabilidades simuladas son:\")\n",
    "for n in n_list:\n",
    "    print(f\"    Para n = {n}: {ej7_simulation(n)}\")"
   ]
  },
  {
   "cell_type": "markdown",
   "metadata": {},
   "source": [
    "## Ejercicio 8"
   ]
  },
  {
   "cell_type": "code",
   "execution_count": 14,
   "metadata": {},
   "outputs": [
    {
     "name": "stdout",
     "output_type": "stream",
     "text": [
      "Item A:\n",
      "Los valores de las probabilidades simuladas son:\n",
      "    Para n = 100: 3.08\n",
      "    Para n = 1000: 2.965\n",
      "    Para n = 10000: 3.0089\n",
      "    Para n = 100000: 2.99853\n",
      "    Para n = 1000000: 2.999525\n",
      "\n",
      "Item B:\n",
      "Los valores de las probabilidades simuladas son:\n",
      "    Para n = 1000000: [0.050123, 0.149753, 0.223808, 0.223521, 0.168091, 0.100784, 0.050329]\n"
     ]
    }
   ],
   "source": [
    "# ITEM A\n",
    "def ej8_simulation_a(n: int) -> float:\n",
    "    expected = 0\n",
    "    for i in range(n):\n",
    "        m = 1\n",
    "        cntWin = 0\n",
    "        limit = math.exp(-3)\n",
    "        while m >= limit:\n",
    "            m *= rnd.random()\n",
    "            cntWin += 1\n",
    "        expected += (cntWin - 1)\n",
    "    return expected / n\n",
    "\n",
    "n_list = [10**i for i in range(2, 7)]\n",
    "print(f\"Item A:\")\n",
    "print(f\"Los valores de las probabilidades simuladas son:\")\n",
    "for n in n_list:\n",
    "    print(f\"    Para n = {n}: {ej8_simulation_a(n)}\")\n",
    "print()\n",
    "\n",
    "# ITEM B\n",
    "def ej8_simulation_b(n: int) -> list[float]:\n",
    "    r = dict()\n",
    "    for i in range(n):\n",
    "        m = 1\n",
    "        cntWin = 0\n",
    "        limit = math.exp(-3)\n",
    "        while m >= limit:\n",
    "            m *= rnd.random()\n",
    "            cntWin += 1\n",
    "        cntWin -= 1\n",
    "        r[cntWin] = r.get(cntWin, 0) + 1\n",
    "    for x in r: r[x] /= n\n",
    "    return r\n",
    "\n",
    "n_list = [10**6]\n",
    "print(f\"Item B:\")\n",
    "print(f\"Los valores de las probabilidades simuladas son:\")\n",
    "for n in n_list:\n",
    "    prob_list = ej8_simulation_b(n)\n",
    "    print(f\"    Para n = {n}: {[prob_list.get(i, 0) for i in range(0, 7)]}\")"
   ]
  },
  {
   "cell_type": "markdown",
   "metadata": {},
   "source": [
    "## Ejercicio 9"
   ]
  },
  {
   "cell_type": "code",
   "execution_count": 15,
   "metadata": {},
   "outputs": [
    {
     "name": "stdout",
     "output_type": "stream",
     "text": [
      "El valor real de la probabilidad teórica es: ?\n",
      "Los valores de las probabilidades simuladas son:\n",
      "    Para n = 100: 0.5\n",
      "    Para n = 1000: 0.58\n",
      "    Para n = 10000: 0.5579\n",
      "    Para n = 100000: 0.55286\n",
      "    Para n = 1000000: 0.555012\n"
     ]
    }
   ],
   "source": [
    "def ej9_simulation(n: int) -> float:\n",
    "    cntWin = 0\n",
    "    for i in range(n):\n",
    "        x = rnd.randint(1, 6)\n",
    "        s = 0\n",
    "        if x in [1, 6]: s = 2 * rnd.randint(1, 6)\n",
    "        else: s = sum([rnd.randint(1, 6) for i in range(2)])\n",
    "        cntWin += s > 6\n",
    "    return cntWin / n\n",
    "\n",
    "n_list = [10**i for i in range(2, 7)]\n",
    "print(f\"El valor real de la probabilidad teórica es: ?\")\n",
    "print(f\"Los valores de las probabilidades simuladas son:\")\n",
    "for n in n_list:\n",
    "    print(f\"    Para n = {n}: {ej9_simulation(n)}\")"
   ]
  }
 ],
 "metadata": {
  "kernelspec": {
   "display_name": "famaf-mys",
   "language": "python",
   "name": "python3"
  },
  "language_info": {
   "codemirror_mode": {
    "name": "ipython",
    "version": 3
   },
   "file_extension": ".py",
   "mimetype": "text/x-python",
   "name": "python",
   "nbconvert_exporter": "python",
   "pygments_lexer": "ipython3",
   "version": "3.11.8"
  }
 },
 "nbformat": 4,
 "nbformat_minor": 2
}
