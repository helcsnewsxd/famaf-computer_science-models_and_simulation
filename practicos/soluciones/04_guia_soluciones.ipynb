{
 "cells": [
  {
   "cell_type": "markdown",
   "metadata": {},
   "source": [
    "# Práctico 4: Generación de Variables Aleatorias Discretas"
   ]
  },
  {
   "cell_type": "markdown",
   "metadata": {},
   "source": [
    "## Algoritmos"
   ]
  },
  {
   "cell_type": "code",
   "execution_count": 1,
   "metadata": {},
   "outputs": [],
   "source": [
    "import random as rnd\n",
    "import numpy as np\n",
    "import time"
   ]
  },
  {
   "cell_type": "markdown",
   "metadata": {},
   "source": [
    "### Generación de VAs Discretas con sus probabilidades de masa "
   ]
  },
  {
   "cell_type": "code",
   "execution_count": 2,
   "metadata": {},
   "outputs": [
    {
     "name": "stdout",
     "output_type": "stream",
     "text": [
      "[0.100004, 0.200823, 0.299931, 0.399242]\n",
      "[0.0, 0.100382, 0.199998, 0.300357, 0.399263]\n"
     ]
    }
   ],
   "source": [
    "def discrete_distribution(p: list[float], x: list[int], sz: int = 1) -> list[int]:\n",
    "    \"\"\"\n",
    "    Generate a random number from a discrete distribution.\n",
    "\n",
    "    Parameters:\n",
    "    p: list[float] - List of probabilities.\n",
    "    x: list[int] - List of values.\n",
    "    sz: int - Number of random numbers to generate.\n",
    "\n",
    "    Returns:\n",
    "    list[int] - List of random numbers.\n",
    "    \"\"\"\n",
    "    def generate(p: list[float], x: list[int]) -> int:\n",
    "        r = rnd.random()\n",
    "        i = 0; prob = p[i]\n",
    "        while r >= prob: i += 1; prob += p[i]\n",
    "        return x[i]\n",
    "    \n",
    "    assert len(p) == len(x), \"The probabilities and values lists must have the same length.\"\n",
    "    return [generate(p, x) for _ in range(sz)]\n",
    "\n",
    "def discrete_distribution_function(p: callable, sz: int = 1) -> list[int]:\n",
    "    \"\"\"\n",
    "    Generate a random number from a discrete distribution.\n",
    "    This considers the values from 0 to inf.\n",
    "\n",
    "    Parameters:\n",
    "    p: callable - Probability function.\n",
    "    sz: int - Number of random numbers to generate.\n",
    "\n",
    "    Returns:\n",
    "    list[int] - List of random numbers.\n",
    "    \"\"\"\n",
    "    def generate(p: callable) -> int:\n",
    "        r = rnd.random(); i = 0\n",
    "        prob = p(i)\n",
    "        while r >= prob: i += 1; prob += p(i)\n",
    "        return i\n",
    "    \n",
    "    return [generate(p) for _ in range(sz)]\n",
    "\n",
    "if __name__ == \"__main__\":\n",
    "    p = [0.1, 0.2, 0.3, 0.4]\n",
    "    x = [1, 2, 3, 4]\n",
    "    c = [0]*len(x)\n",
    "    for i in discrete_distribution(p, x, 10**6): c[i-1] += 1\n",
    "    print([c[i]/sum(c) for i in range(len(c))])\n",
    "\n",
    "    p = lambda x: x/10\n",
    "    c = [0]*5\n",
    "    for i in discrete_distribution_function(p, 10**6): c[i] += 1\n",
    "    print([c[i]/sum(c) for i in range(len(c))])"
   ]
  },
  {
   "cell_type": "markdown",
   "metadata": {},
   "source": [
    "### Generación de Uniforme Discreta"
   ]
  },
  {
   "cell_type": "code",
   "execution_count": 3,
   "metadata": {},
   "outputs": [
    {
     "name": "stdout",
     "output_type": "stream",
     "text": [
      "[0.166628, 0.166871, 0.166457, 0.16659, 0.166984, 0.16647]\n"
     ]
    }
   ],
   "source": [
    "def uniform_discrete_distribution(a: int, b: int, sz: int = 1) -> list[int]:\n",
    "    \"\"\"\n",
    "    Generate a random number from a uniform discrete distribution.\n",
    "\n",
    "    Parameters:\n",
    "    a: int - Lower bound.\n",
    "    b: int - Upper bound.\n",
    "    sz: int - Number of random numbers to generate.\n",
    "\n",
    "    Returns:\n",
    "    list[int] - List of random numbers.\n",
    "    \"\"\"\n",
    "    def generate(a: int, b: int) -> int:\n",
    "        U = rnd.random()\n",
    "        return a + int((b - a + 1) * U)\n",
    "    \n",
    "    return [generate(a, b) for _ in range(sz)]\n",
    "\n",
    "if __name__ == \"__main__\":\n",
    "    a, b = 1, 6\n",
    "    c = [0]*(b-a+1)\n",
    "    for i in uniform_discrete_distribution(a, b, 10**6): c[i-a] += 1\n",
    "    print([c[i]/sum(c) for i in range(len(c))])"
   ]
  },
  {
   "cell_type": "markdown",
   "metadata": {},
   "source": [
    "#### Generación de una permutación aleatoria"
   ]
  },
  {
   "cell_type": "code",
   "execution_count": 4,
   "metadata": {},
   "outputs": [
    {
     "name": "stdout",
     "output_type": "stream",
     "text": [
      "[2, 1, 4, 3, 5]\n",
      "[]\n",
      "[3]\n",
      "[4, 2]\n",
      "[4, 2, 3]\n",
      "[1, 2, 5, 4]\n",
      "[1, 2, 3, 4, 5]\n"
     ]
    }
   ],
   "source": [
    "def random_permutation(a: list) -> list:\n",
    "    \"\"\"\n",
    "    Generate a random permutation of a list.\n",
    "\n",
    "    Parameters:\n",
    "    a: list - List to be permuted.\n",
    "\n",
    "    Returns:\n",
    "    list - Random permutation of the list.\n",
    "    \"\"\"\n",
    "    b = a.copy()\n",
    "    n = len(b)\n",
    "    for j in range(n-1, 0, -1):\n",
    "        i = uniform_discrete_distribution(0, j)[0]\n",
    "        b[i], b[j] = b[j], b[i]\n",
    "    return b\n",
    "\n",
    "def random_sample(a: list, k: int, inv: bool = False) -> list:\n",
    "    \"\"\"\n",
    "    Generate a random sample of k elements from a list.\n",
    "\n",
    "    Parameters:\n",
    "    a: list - List to be sampled.\n",
    "    k: int - Number of elements to be sampled.\n",
    "    inv: bool - If True, the sample will be the complement of the random sample.\n",
    "\n",
    "    Returns:\n",
    "    list - Random sample of k elements from the list.\n",
    "    \"\"\"\n",
    "    n = len(a)\n",
    "    if k > n/2: return random_sample(a, n-k, True)\n",
    "\n",
    "    b = a.copy()\n",
    "    for j in range(n-1, n-k-1, -1):\n",
    "        i = uniform_discrete_distribution(0, j)[0]\n",
    "        b[i], b[j] = b[j], b[i]\n",
    "    return b[:n-k] if inv else b[n-k:]\n",
    "\n",
    "if __name__ == \"__main__\":\n",
    "    a = [1, 2, 3, 4, 5]\n",
    "    print(random_permutation(a))\n",
    "    for i in range(6):\n",
    "        print(random_sample(a, i))"
   ]
  },
  {
   "cell_type": "markdown",
   "metadata": {},
   "source": [
    "#### Cálculo de sumatoria de valores de una función"
   ]
  },
  {
   "cell_type": "code",
   "execution_count": 5,
   "metadata": {},
   "outputs": [
    {
     "name": "stdout",
     "output_type": "stream",
     "text": [
      "10007.525587994402\n"
     ]
    }
   ],
   "source": [
    "def monte_carlo_sum(f: callable, n: int, m: int) -> float:\n",
    "    \"\"\"\n",
    "    Estimate the summatory of a function using the Monte Carlo method.\n",
    "\n",
    "    Parameters:\n",
    "    f: callable - Function to estimate the summatory.\n",
    "    n: int - Number of samples.\n",
    "    m: int - Number of iterations.\n",
    "\n",
    "    Returns:\n",
    "    float - Estimated summatory of the function.\n",
    "    \"\"\"\n",
    "    mean = 0\n",
    "    for r in uniform_discrete_distribution(1, n, m):\n",
    "        mean += f(r)\n",
    "    return mean / m * n\n",
    "\n",
    "if __name__ == \"__main__\":\n",
    "    f = lambda x: np.exp(1/x)\n",
    "    n = 10_000\n",
    "    m = 100\n",
    "    print(monte_carlo_sum(f, n, m))"
   ]
  },
  {
   "cell_type": "markdown",
   "metadata": {},
   "source": [
    "### Generación de una VA Geométrica"
   ]
  },
  {
   "cell_type": "code",
   "execution_count": 6,
   "metadata": {},
   "outputs": [
    {
     "name": "stdout",
     "output_type": "stream",
     "text": [
      "1 0.299148\n",
      "2 0.21041\n",
      "3 0.146247\n",
      "4 0.103266\n",
      "5 0.072175\n",
      "6 0.050872\n",
      "7 0.03539\n",
      "8 0.024702\n",
      "9 0.017384\n",
      "10 0.012111\n",
      "11 0.008355\n",
      "12 0.006059\n",
      "13 0.004126\n",
      "14 0.002934\n",
      "15 0.002028\n",
      "16 0.001455\n",
      "17 0.001023\n",
      "18 0.000702\n",
      "19 0.000501\n",
      "20 0.000312\n"
     ]
    }
   ],
   "source": [
    "def geometric_distribution(p: float, sz: int = 1) -> list[int]:\n",
    "    \"\"\"\n",
    "    Generate a random number from a geometric distribution.\n",
    "\n",
    "    Parameters:\n",
    "    p: float - Probability of success.\n",
    "    sz: int - Number of random numbers to generate.\n",
    "\n",
    "    Returns:\n",
    "    list[int] - List of random numbers.\n",
    "    \"\"\"\n",
    "    def generate(p: float) -> int:\n",
    "        U = rnd.random()\n",
    "        return int(np.log(1 - U) / np.log(1 - p)) + 1\n",
    "\n",
    "    return [generate(p) for _ in range(sz)]\n",
    "\n",
    "if __name__ == \"__main__\":\n",
    "    p = 0.3\n",
    "    c = dict()\n",
    "    for x in geometric_distribution(p, 10**6): c[x] = c.get(x, 0) + 1\n",
    "    for k in sorted(c.keys()): \n",
    "        if k > 20: break\n",
    "        print(k, c[k]/sum(c.values()))"
   ]
  },
  {
   "cell_type": "markdown",
   "metadata": {},
   "source": [
    "### Generación de una VA Bernoulli"
   ]
  },
  {
   "cell_type": "code",
   "execution_count": 7,
   "metadata": {},
   "outputs": [
    {
     "name": "stdout",
     "output_type": "stream",
     "text": [
      "0.700597 0.299403\n",
      "0.699948 0.300052\n"
     ]
    }
   ],
   "source": [
    "def bernoulli_distribution(p: float, sz: int = 1) -> list[int]:\n",
    "    \"\"\"\n",
    "    Generate a random number from a Bernoulli distribution.\n",
    "\n",
    "    Parameters:\n",
    "    p: float - Probability of success.\n",
    "    sz: int - Number of random numbers to generate.\n",
    "\n",
    "    Returns:\n",
    "    list[int] - List of random numbers.\n",
    "    \"\"\"\n",
    "    if sz == 1:\n",
    "        return [1 if rnd.random() < p else 0]\n",
    "    \n",
    "    # Using the geometric distribution\n",
    "    r_list = [0] * sz\n",
    "    j = geometric_distribution(p)[0] - 1\n",
    "    while j < sz: r_list[j] = 1; j += geometric_distribution(p)[0]\n",
    "    return r_list\n",
    "\n",
    "if __name__ == \"__main__\":\n",
    "    p = 0.3\n",
    "    c = dict()\n",
    "    for x in bernoulli_distribution(p, 10**6): c[x] = c.get(x, 0) + 1\n",
    "    print(c[0]/sum(c.values()), c[1]/sum(c.values()))\n",
    "\n",
    "    c.clear()\n",
    "    for _ in range(10**6):\n",
    "        x = bernoulli_distribution(p)[0]\n",
    "        c[x] = c.get(x, 0) + 1\n",
    "    print(c[0]/sum(c.values()), c[1]/sum(c.values()))"
   ]
  },
  {
   "cell_type": "markdown",
   "metadata": {},
   "source": [
    "### Generación de una VA Poisson"
   ]
  },
  {
   "cell_type": "code",
   "execution_count": 8,
   "metadata": {},
   "outputs": [
    {
     "name": "stdout",
     "output_type": "stream",
     "text": [
      "0 0.049841\n",
      "1 0.148983\n",
      "2 0.224062\n",
      "3 0.224329\n",
      "4 0.168266\n",
      "5 0.100651\n",
      "6 0.050295\n",
      "7 0.021617\n",
      "8 0.008101\n",
      "9 0.002758\n",
      "10 0.000794\n",
      "11 0.000231\n",
      "12 5.7e-05\n",
      "13 1e-05\n",
      "14 3e-06\n",
      "15 2e-06\n"
     ]
    }
   ],
   "source": [
    "def poisson_distribution(l: float, sz: int = 1) -> list[int]:\n",
    "    \"\"\"\n",
    "    Generate a random number from a Poisson distribution.\n",
    "\n",
    "    Parameters:\n",
    "    l: float - Rate of the Poisson distribution.\n",
    "    sz: int - Number of random numbers to generate.\n",
    "\n",
    "    Returns:\n",
    "    list[int] - List of random numbers.\n",
    "    \"\"\"\n",
    "    def generate(l: float) -> int:\n",
    "        p = np.exp(-l); F = p\n",
    "        U = rnd.random()\n",
    "\n",
    "        for j in range(1, int(l) + 1): p *= l / j; F += p\n",
    "        if U >= F:\n",
    "            j = int(l) + 1\n",
    "            while U >= F: p *= l / j; F += p; j += 1\n",
    "            return j - 1\n",
    "        else:\n",
    "            j = int(l)\n",
    "            while U < F: F -= p; p *= j / l; j -= 1\n",
    "            return j + 1\n",
    "\n",
    "    return [generate(l) for _ in range(sz)]\n",
    "\n",
    "if __name__ == \"__main__\":\n",
    "    l = 3\n",
    "    c = dict()\n",
    "    for x in poisson_distribution(l, 10**6): c[x] = c.get(x, 0) + 1\n",
    "    for k in sorted(c.keys()): print(k, c[k]/sum(c.values()))"
   ]
  },
  {
   "cell_type": "markdown",
   "metadata": {},
   "source": [
    "### Generación de una VA Binomial"
   ]
  },
  {
   "cell_type": "code",
   "execution_count": 9,
   "metadata": {},
   "outputs": [
    {
     "name": "stdout",
     "output_type": "stream",
     "text": [
      "0 0.028311\n",
      "1 0.121085\n",
      "2 0.233673\n",
      "3 0.266063\n",
      "4 0.199975\n",
      "5 0.103183\n",
      "6 0.037115\n",
      "7 0.009018\n",
      "8 0.001435\n",
      "9 0.000132\n",
      "10 1e-05\n"
     ]
    }
   ],
   "source": [
    "def binomial_distribution(n: int, p: float, sz: int = 1) -> list[int]:\n",
    "    \"\"\"\n",
    "    Generate a random number from a binomial distribution.\n",
    "\n",
    "    Parameters:\n",
    "    n: int - Number of trials.\n",
    "    p: float - Probability of success.\n",
    "    sz: int - Number of random numbers to generate.\n",
    "\n",
    "    Returns:\n",
    "    list[int] - List of random numbers.\n",
    "    \"\"\"\n",
    "    def generate(n: int, p: float) -> int:\n",
    "        c = p / (1 - p); prob = (1 - p)**n\n",
    "        F = prob; U = rnd.random()\n",
    "        \n",
    "        for j in range(1, int(n * p) + 1): prob *= c * (n - j + 1) / j; F += prob\n",
    "        if U >= F:\n",
    "            j = int(n * p) + 1\n",
    "            while U >= F: prob *= c * (n - j + 1) / j; F += prob; j += 1\n",
    "            return j - 1\n",
    "        else:\n",
    "            j = int(n * p)\n",
    "            while U < F: F -= prob; prob *= j / (c * (n - j + 1)); j -= 1\n",
    "            return j + 1\n",
    "\n",
    "    if p > 0.5: return [n - generate(n, 1 - p) for _ in range(sz)]\n",
    "    else: return [generate(n, p) for _ in range(sz)]\n",
    "\n",
    "if __name__ == \"__main__\":\n",
    "    n, p = 10, 0.3\n",
    "    c = dict()\n",
    "    for x in binomial_distribution(n, p, 10**6): c[x] = c.get(x, 0) + 1\n",
    "    for k in sorted(c.keys()): print(k, c[k]/sum(c.values()))"
   ]
  },
  {
   "cell_type": "markdown",
   "metadata": {},
   "source": [
    "### Método de aceptación y rechazo"
   ]
  },
  {
   "cell_type": "code",
   "execution_count": 10,
   "metadata": {},
   "outputs": [],
   "source": [
    "def rejection_method(Y: callable, p: callable, q: callable, c: float, sz: int = 1) -> list[int]:\n",
    "    \"\"\"\n",
    "    Estimate the expected value of a function using the rejection method.\n",
    "\n",
    "    Parameters:\n",
    "    Y: callable - Function to simulate the random variable.\n",
    "    p: callable - Probability function of the random variable of X.\n",
    "    q: callable - Probability function of the random variable of Y.\n",
    "    c: float - Constant such that p(x) <= c * q(x) for all x.\n",
    "    sz: int - Number of random numbers to generate.\n",
    "\n",
    "    Returns:\n",
    "    list[int] - List of random numbers.\n",
    "    \"\"\"\n",
    "    def generate(Y: callable, p: callable, q: callable, c: float) -> int:\n",
    "        while True:\n",
    "            x = Y()\n",
    "            U = rnd.random()\n",
    "            if U < p(x) / (c * q(x)): return x\n",
    "    \n",
    "    return [generate(Y, p, q, c) for _ in range(sz)]"
   ]
  },
  {
   "cell_type": "markdown",
   "metadata": {},
   "source": [
    "### Método de la urna"
   ]
  },
  {
   "cell_type": "code",
   "execution_count": 11,
   "metadata": {},
   "outputs": [],
   "source": [
    "def urn_method(n: int, p: list[float], x: list[int], sz: int = 1) -> list[int]:\n",
    "    \"\"\"\n",
    "    Generate a random number from an urn method.\n",
    "\n",
    "    Parameters:\n",
    "    n: int - Number of balls.\n",
    "    p: list[float] - List of probabilities.\n",
    "    x: list[int] - List of values.\n",
    "    sz: int - Number of random numbers to generate.\n",
    "\n",
    "    Returns:\n",
    "    list[int] - List of random numbers.\n",
    "    \"\"\"\n",
    "    def simulate(A: list[int]) -> int:\n",
    "        return A[uniform_discrete_distribution(0, len(A) - 1)[0]]\n",
    "\n",
    "    A = []\n",
    "    for i in range(len(p)): A.extend([x[i]] * int(p[i] * n))\n",
    "    return [simulate(A) for _ in range(sz)]"
   ]
  },
  {
   "cell_type": "markdown",
   "metadata": {},
   "source": [
    "### Método de la tasa discreta de riesgo"
   ]
  },
  {
   "cell_type": "code",
   "execution_count": 12,
   "metadata": {},
   "outputs": [],
   "source": [
    "def risk_rate_method(p: callable, sz: int = 1) -> list[int]:\n",
    "    \"\"\"\n",
    "    Generate a random number from a risk rate method.\n",
    "\n",
    "    Parameters:\n",
    "    p: callable - Probability function.\n",
    "    sz: int - Number of random numbers to generate.\n",
    "\n",
    "    Returns:\n",
    "    list[int] - List of random numbers.\n",
    "    \"\"\"\n",
    "    def generate(p: callable) -> int:\n",
    "        prob = p(0); s = 0; i = 0\n",
    "        while True:\n",
    "            U = rnd.random()\n",
    "            if U < prob / (1 - s): return i\n",
    "            i += 1; s += prob; prob = p(i)\n",
    "\n",
    "    return [generate(p) for _ in range(sz)]"
   ]
  },
  {
   "cell_type": "markdown",
   "metadata": {},
   "source": [
    "## Ejercicio 1"
   ]
  },
  {
   "cell_type": "code",
   "execution_count": 13,
   "metadata": {},
   "outputs": [
    {
     "name": "stdout",
     "output_type": "stream",
     "text": [
      "EJERCICIO 1A:\n",
      "    Para m = 100 tenemos que c_i = 0.0, c_ii = 0.0\n",
      "    Para m = 1000 tenemos que c_i = 0.0, c_ii = 0.0\n",
      "    Para m = 10000 tenemos que c_i = 0.0, c_ii = 0.0\n",
      "    Para m = 100000 tenemos que c_i = 0.0, c_ii = 0.0\n",
      "EJERCICIO 1B:\n",
      "    Para m = 100 tenemos que E[X] = 1.18, V[X] = 1.3276000000000003\n",
      "    Para m = 1000 tenemos que E[X] = 0.947, V[X] = 0.862191\n",
      "    Para m = 10000 tenemos que E[X] = 0.9872, V[X] = 0.99603616\n",
      "    Para m = 100000 tenemos que E[X] = 0.99337, V[X] = 0.9977460430999999\n"
     ]
    }
   ],
   "source": [
    "def ej1_a(n, m, r):\n",
    "    def win(r, n):\n",
    "        v = random_permutation([i for i in range(1, n+1)])\n",
    "        if all(v[i] == i+1 for i in range(r)): return [1, all(v[i] != i+1 for i in range(r, n))]\n",
    "        return [0, 0]\n",
    "    \n",
    "    c = [0, 0]\n",
    "    for _ in range(m):\n",
    "        w = win(r, n)\n",
    "        c[0] += w[0]\n",
    "        c[1] += w[1]\n",
    "    return [c[0]/m, c[1]/m]\n",
    "\n",
    "def ej1_b(n, m):\n",
    "    def simulate(n):\n",
    "        v = random_permutation([i for i in range(1, n+1)])\n",
    "        return sum(v[i] == i+1 for i in range(n))\n",
    "    \n",
    "    e = 0; v = 0\n",
    "    for _ in range(m):\n",
    "        x = simulate(n)\n",
    "        e += x\n",
    "        v += x**2\n",
    "    e /= m; v /= m; v -= e**2\n",
    "    return [e, v]\n",
    "\n",
    "m_list = [10**i for i in range(2, 6)]\n",
    "print(\"EJERCICIO 1A:\")\n",
    "for m in m_list:\n",
    "    c = ej1_a(100, m, 10)\n",
    "    print(f\"    Para m = {m} tenemos que c_i = {c[0]}, c_ii = {c[1]}\")\n",
    "\n",
    "print(\"EJERCICIO 1B:\")\n",
    "for m in m_list:\n",
    "    c = ej1_b(100, m)\n",
    "    print(f\"    Para m = {m} tenemos que E[X] = {c[0]}, V[X] = {c[1]}\")"
   ]
  },
  {
   "cell_type": "markdown",
   "metadata": {},
   "source": [
    "## Ejercicio 2"
   ]
  },
  {
   "cell_type": "code",
   "execution_count": 14,
   "metadata": {},
   "outputs": [
    {
     "name": "stdout",
     "output_type": "stream",
     "text": [
      "EJERCICIO 2A:\n",
      "     La estimación por Monte Carlo de la sumatoria dada es: 17175.806988029344\n",
      "EJERCICIO 2B:\n",
      "     La estimación directa de la sumatoria dada es: 100.50669600897406\n"
     ]
    }
   ],
   "source": [
    "n = 10**4\n",
    "m = 100\n",
    "g = lambda x : np.exp(x/n)\n",
    "\n",
    "print(\"EJERCICIO 2A:\")\n",
    "v = monte_carlo_sum(g, n, m)\n",
    "print(f\"     La estimación por Monte Carlo de la sumatoria dada es: {monte_carlo_sum(g, n, m)}\")\n",
    "\n",
    "print(\"EJERCICIO 2B:\")\n",
    "v = sum(g(x) for x in range(1, m+1))\n",
    "print(f\"     La estimación directa de la sumatoria dada es: {v}\")\n"
   ]
  },
  {
   "cell_type": "markdown",
   "metadata": {},
   "source": [
    "## Ejercicio 3"
   ]
  },
  {
   "cell_type": "code",
   "execution_count": 15,
   "metadata": {},
   "outputs": [
    {
     "name": "stdout",
     "output_type": "stream",
     "text": [
      "EJERCICIO 3A:\n",
      "    Para n = 100 tenemos que E[X] = 67.5, D[X] = 40.415219905377235\n",
      "    Para n = 1000 tenemos que E[X] = 60.66, D[X] = 35.14860452421975\n",
      "    Para n = 10000 tenemos que E[X] = 61.5476, D[X] = 36.174932401319005\n",
      "    Para n = 100000 tenemos que E[X] = 61.31333, D[X] = 36.14298208935035\n",
      "EJERCICIO 3B:\n",
      "    Para n = 100 tenemos que P(X >= 15) = 1.0, P(X <= 9) = 0.0\n",
      "    Para n = 1000 tenemos que P(X >= 15) = 1.0, P(X <= 9) = 0.0\n",
      "    Para n = 10000 tenemos que P(X >= 15) = 0.9986, P(X <= 9) = 0.0\n",
      "    Para n = 100000 tenemos que P(X >= 15) = 0.99862, P(X <= 9) = 0.0\n"
     ]
    }
   ],
   "source": [
    "def ej3_simulation():\n",
    "    s = set()\n",
    "    r = 0\n",
    "    while len(s) < 11: s.add(sum(uniform_discrete_distribution(1, 6, 2))); r += 1\n",
    "    return r\n",
    "\n",
    "def ej3_a(n):\n",
    "    e = 0; d = 0\n",
    "    for _ in range(n):\n",
    "        x = ej3_simulation()\n",
    "        e += x\n",
    "        d += x**2\n",
    "    e /= n; d /= n; d = np.sqrt(d - e**2)\n",
    "    return [e, d]\n",
    "\n",
    "def ej3_b(n):\n",
    "    p1 = 0; p2 = 0\n",
    "    for _ in range(n):\n",
    "        x = ej3_simulation()\n",
    "        p1 += x >= 15\n",
    "        p2 += x <= 9\n",
    "    return [p1/n, p2/n]\n",
    "\n",
    "n_list = [10**i for i in range(2, 6)]\n",
    "print(\"EJERCICIO 3A:\")\n",
    "for n in n_list:\n",
    "    c = ej3_a(n)\n",
    "    print(f\"    Para n = {n} tenemos que E[X] = {c[0]}, D[X] = {c[1]}\")\n",
    "\n",
    "print(\"EJERCICIO 3B:\")\n",
    "for n in n_list:\n",
    "    c = ej3_b(n)\n",
    "    print(f\"    Para n = {n} tenemos que P(X >= 15) = {c[0]}, P(X <= 9) = {c[1]}\")"
   ]
  },
  {
   "cell_type": "markdown",
   "metadata": {},
   "source": [
    "## Ejercicio 4"
   ]
  },
  {
   "cell_type": "code",
   "execution_count": 16,
   "metadata": {},
   "outputs": [
    {
     "name": "stdout",
     "output_type": "stream",
     "text": [
      "EJERCICIO 4 RECHAZO:\n",
      "1: 0.107, 2: 0.1387, 3: 0.0912, 4: 0.0798, 5: 0.1221, 6: 0.1041, 7: 0.09, 8: 0.0687, 9: 0.1087, 10: 0.0897, \n",
      "    Time: 0.01599907875061035\n",
      "EJERCICIO 4 TRANSFORMADA INVERSA:\n",
      "1: 0.1124, 2: 0.1392, 3: 0.0918, 4: 0.0728, 5: 0.1209, 6: 0.1043, 7: 0.0911, 8: 0.0705, 9: 0.1099, 10: 0.0871, \n",
      "    Time: 0.00400090217590332\n",
      "EJERCICIO 4 URNA:\n",
      "1: 0.1022, 2: 0.1461, 3: 0.0856, 4: 0.08, 5: 0.1251, 6: 0.1022, 7: 0.0885, 8: 0.0722, 9: 0.1061, 10: 0.092, \n",
      "    Time: 0.009999990463256836\n"
     ]
    }
   ],
   "source": [
    "def ej4_rechazo(n):\n",
    "    def p(x): return [0.11, 0.14, 0.09, 0.08, 0.12, 0.10, 0.09, 0.07, 0.11, 0.09][x-1]\n",
    "    def q(x): return 1/10\n",
    "    def Y(): return uniform_discrete_distribution(1, 10)[0]\n",
    "    c = 1.4\n",
    "\n",
    "    vals = rejection_method(Y, p, q, c, n)\n",
    "\n",
    "    # Check if the distribution is correct\n",
    "    print(\"EJERCICIO 4 RECHAZO:\")\n",
    "    c = dict()\n",
    "    for v in vals: c[v] = c.get(v, 0) + 1\n",
    "    for k in sorted(c.keys()): print(f\"{k}: {c[k]/sum(c.values())}\", end=\", \")\n",
    "    print()\n",
    "\n",
    "def ej4_transformada_inversa(n):\n",
    "    x = [i for i in range(1, 11)]\n",
    "    p = [0.11, 0.14, 0.09, 0.08, 0.12, 0.10, 0.09, 0.07, 0.11, 0.09]\n",
    "\n",
    "    p, x = zip(*sorted(zip(p, x), reverse=True))\n",
    "    vals = discrete_distribution(p, x, n)\n",
    "    \n",
    "    # Check if the distribution is correct\n",
    "    print(\"EJERCICIO 4 TRANSFORMADA INVERSA:\")\n",
    "    c = dict()\n",
    "    for v in vals: c[v] = c.get(v, 0) + 1\n",
    "    for k in sorted(c.keys()): print(f\"{k}: {c[k]/sum(c.values())}\", end=\", \")\n",
    "    print()\n",
    "\n",
    "def ej4_urna(n):\n",
    "    def simulate(A):\n",
    "        return A[uniform_discrete_distribution(1, len(A))[0]-1]\n",
    "\n",
    "    x = [i for i in range(1, 11)]\n",
    "    p = [0.11, 0.14, 0.09, 0.08, 0.12, 0.10, 0.09, 0.07, 0.11, 0.09]\n",
    "    tam = 100\n",
    "\n",
    "    vals = urn_method(tam, p, x, n)\n",
    "\n",
    "    # Check if the distribution is correct\n",
    "    print(\"EJERCICIO 4 URNA:\")\n",
    "    c = dict()\n",
    "    for v in vals: c[v] = c.get(v, 0) + 1\n",
    "    for k in sorted(c.keys()): print(f\"{k}: {c[k]/sum(c.values())}\", end=\", \")\n",
    "    print()\n",
    "\n",
    "n_list = [10**4]\n",
    "for n in n_list:\n",
    "    act_time = time.time()\n",
    "    ej4_rechazo(n)\n",
    "    print(f\"    Time: {time.time()-act_time}\")\n",
    "\n",
    "    act_time = time.time()\n",
    "    ej4_transformada_inversa(n)\n",
    "    print(f\"    Time: {time.time()-act_time}\")\n",
    "\n",
    "    act_time = time.time()\n",
    "    ej4_urna(n)\n",
    "    print(f\"    Time: {time.time()-act_time}\")"
   ]
  },
  {
   "cell_type": "markdown",
   "metadata": {},
   "source": [
    "## Ejercicio 5"
   ]
  },
  {
   "cell_type": "code",
   "execution_count": 17,
   "metadata": {},
   "outputs": [
    {
     "name": "stdout",
     "output_type": "stream",
     "text": [
      "EJERCICIO 5A: Transformada inversa de la binomial\n",
      "    El valor máximo de la distribución binomial es: 3\n",
      "    La probabilidad de que X = 0 es: 0.0301\n",
      "    La probabilidad de que X = 10 es: 0.0\n",
      "    Time: 0.011998653411865234\n",
      "\n",
      "EJERCICIO 5B: N Bernoullis\n",
      "    El valor máximo de la distribución binomial es: 3\n",
      "    La probabilidad de que X = 0 es: 0.0289\n",
      "    La probabilidad de que X = 10 es: 0.0001\n",
      "    Time: 0.0970001220703125\n"
     ]
    }
   ],
   "source": [
    "def ej5_method1(n, p, m):\n",
    "    vals = binomial_distribution(n, p, m)\n",
    "    \n",
    "    c = dict()\n",
    "    for v in vals: c[v] = c.get(v, 0) + 1\n",
    "\n",
    "    return [max(c, key=c.get), c.get(0, 0)/sum(c.values()), c.get(10, 0)/sum(c.values())]\n",
    "\n",
    "def ej5_method2(n, p, m):\n",
    "    vals = [sum(bernoulli_distribution(p, n)) for _ in range(m)]\n",
    "\n",
    "    c = dict()\n",
    "    for v in vals: c[v] = c.get(v, 0) + 1\n",
    "\n",
    "    return [max(c, key=c.get), c.get(0, 0)/sum(c.values()), c.get(10, 0)/sum(c.values())]\n",
    "\n",
    "m = 10**4; n = 10; p = 0.3\n",
    "print(\"EJERCICIO 5A: Transformada inversa de la binomial\")\n",
    "act_time = time.time()\n",
    "c = ej5_method1(n, p, m)\n",
    "act_time = time.time() - act_time\n",
    "print(f\"    El valor máximo de la distribución binomial es: {c[0]}\")\n",
    "print(f\"    La probabilidad de que X = 0 es: {c[1]}\")\n",
    "print(f\"    La probabilidad de que X = 10 es: {c[2]}\")\n",
    "print(f\"    Time: {act_time}\")\n",
    "print()\n",
    "\n",
    "print(\"EJERCICIO 5B: N Bernoullis\")\n",
    "act_time = time.time()\n",
    "c = ej5_method2(n, p, m)\n",
    "act_time = time.time() - act_time\n",
    "print(f\"    El valor máximo de la distribución binomial es: {c[0]}\")\n",
    "print(f\"    La probabilidad de que X = 0 es: {c[1]}\")\n",
    "print(f\"    La probabilidad de que X = 10 es: {c[2]}\")\n",
    "print(f\"    Time: {act_time}\")"
   ]
  },
  {
   "cell_type": "markdown",
   "metadata": {},
   "source": [
    "## Ejercicio 6"
   ]
  },
  {
   "cell_type": "code",
   "execution_count": 18,
   "metadata": {},
   "outputs": [
    {
     "name": "stdout",
     "output_type": "stream",
     "text": [
      "EJERCICIO 6A:\n",
      "0: 0.1525, 1: 0.1981, 2: 0.1009, 3: 0.3453, 4: 0.2032, \n",
      "    Time: 0.0030012130737304688\n",
      "\n",
      "EJERCICIO 6B:\n",
      "0: 0.1505, 1: 0.1975, 2: 0.1027, 3: 0.3512, 4: 0.1981, \n",
      "    Time: 0.15799760818481445\n",
      "\n"
     ]
    }
   ],
   "source": [
    "def ej6_method1(x, p, m):\n",
    "    nw_p, nw_x = zip(*sorted(zip(p, x), reverse=True))\n",
    "    vals = discrete_distribution(nw_p, nw_x, m)\n",
    "\n",
    "    # Check if the distribution is correct\n",
    "    print(\"EJERCICIO 6A:\")\n",
    "    c = dict()\n",
    "    for v in vals: c[v] = c.get(v, 0) + 1\n",
    "    for k in sorted(c.keys()): print(f\"{k}: {c[k]/sum(c.values())}\", end=\", \")\n",
    "    print()\n",
    "\n",
    "def ej6_method2(x, p, m):\n",
    "    q = [(1 - 0.45)**4]\n",
    "    while len(q) < len(p):\n",
    "        q.append(q[-1] * 0.45 / (1 - 0.45) * (4 - len(q) + 1) / len(q))\n",
    "\n",
    "    def nw_p(x): return p[x]\n",
    "    def nw_q(x): return q[x]\n",
    "    def nw_Y(): return binomial_distribution(4, 0.45)[0]\n",
    "    c = nw_p(3) / nw_q(4) + 1e-4\n",
    "\n",
    "    vals = rejection_method(nw_Y, nw_p, nw_q, c, m)\n",
    "\n",
    "    # Check if the distribution is correct\n",
    "    print(\"EJERCICIO 6B:\")\n",
    "    c = dict()\n",
    "    for v in vals: c[v] = c.get(v, 0) + 1\n",
    "    for k in sorted(c.keys()): print(f\"{k}: {c[k]/sum(c.values())}\", end=\", \")\n",
    "    print()\n",
    "\n",
    "x = [i for i in range(5)]\n",
    "p = [0.15, 0.20, 0.10, 0.35, 0.20]\n",
    "m = 10**4\n",
    "act_time = time.time()\n",
    "ej6_method1(x, p, m)\n",
    "print(f\"    Time: {time.time()-act_time}\\n\")\n",
    "\n",
    "act_time = time.time()\n",
    "ej6_method2(x, p, m)\n",
    "print(f\"    Time: {time.time()-act_time}\\n\")"
   ]
  },
  {
   "cell_type": "markdown",
   "metadata": {},
   "source": [
    "## Ejercicio 7"
   ]
  },
  {
   "cell_type": "code",
   "execution_count": 19,
   "metadata": {},
   "outputs": [
    {
     "name": "stdout",
     "output_type": "stream",
     "text": [
      "EJERCICIO 7: Generación de Poisson común\n",
      "    La probabilidad de que X > 2 es: 0.9972\n",
      "1: 0.0007, 2: 0.0021, 3: 0.0088, 4: 0.0199, 5: 0.0357, 6: 0.0592, 7: 0.0891, 8: 0.1159, 9: 0.1289, 10: 0.1169, 11: 0.1157, 12: 0.0975, 13: 0.0695, \n",
      "\n",
      "EJERCICIO 7: Generación de Poisson optimizada\n",
      "    La probabilidad de que X > 2 es: 0.9968\n",
      "1: 0.0005, 2: 0.0027, 3: 0.0076, 4: 0.0209, 5: 0.0388, 6: 0.0637, 7: 0.0881, 8: 0.1147, 9: 0.1273, 10: 0.1169, 11: 0.1126, 12: 0.0944, 13: 0.0758, \n",
      "\n"
     ]
    }
   ],
   "source": [
    "def poisson_distribution_not_optimized(l: float, sz: int = 1) -> list[int]:\n",
    "    \"\"\"\n",
    "    Generate a random number from a Poisson distribution NOT optimized.\n",
    "\n",
    "    Parameters:\n",
    "    l: float - Rate of the Poisson distribution.\n",
    "    sz: int - Number of random numbers to generate.\n",
    "\n",
    "    Returns:\n",
    "    list[int] - List of random numbers.\n",
    "    \"\"\"\n",
    "    def generate(l: float) -> int:\n",
    "        p = np.exp(-l); F = p\n",
    "        U = rnd.random(); i = 0\n",
    "        \n",
    "        while U >= F:\n",
    "            i += 1; p *= l / i; F += p\n",
    "        return i\n",
    "\n",
    "    return [generate(l) for _ in range(sz)]\n",
    "\n",
    "l = 10\n",
    "n = 10**4\n",
    "print(f\"EJERCICIO 7: Generación de Poisson común\")\n",
    "vals = poisson_distribution_not_optimized(l, n)\n",
    "p = sum(1 if v > 2 else 0 for v in vals) / len(vals)\n",
    "print(f\"    La probabilidad de que X > 2 es: {p}\")\n",
    "\n",
    "# Check if the normal Poisson distribution is correct\n",
    "c = dict()\n",
    "for v in vals: c[v] = c.get(v, 0) + 1\n",
    "for k in sorted(c.keys()): \n",
    "    if k > 13: break\n",
    "    print(f\"{k}: {c[k]/sum(c.values())}\", end=\", \")\n",
    "print(\"\\n\")\n",
    "\n",
    "print(f\"EJERCICIO 7: Generación de Poisson optimizada\")\n",
    "vals = poisson_distribution(l, n)\n",
    "p = sum(1 if v > 2 else 0 for v in vals) / len(vals)\n",
    "print(f\"    La probabilidad de que X > 2 es: {p}\")\n",
    "\n",
    "# Check if the optimized Poisson distribution is correct\n",
    "c = dict()\n",
    "for v in vals: c[v] = c.get(v, 0) + 1\n",
    "for k in sorted(c.keys()):\n",
    "    if k > 13: break\n",
    "    print(f\"{k}: {c[k]/sum(c.values())}\", end=\", \")\n",
    "print(\"\\n\")"
   ]
  },
  {
   "cell_type": "markdown",
   "metadata": {},
   "source": [
    "## Ejercicio 8"
   ]
  },
  {
   "cell_type": "code",
   "execution_count": 20,
   "metadata": {},
   "outputs": [
    {
     "name": "stdout",
     "output_type": "stream",
     "text": [
      "EJERCICIO 8: Método de la transformada inversa\n",
      "0: 0.8616, 1: 0.1209, 2: 0.0156, 3: 0.0015, 4: 0.0003, 5: 0.0001, \n",
      "    La probabilidad de que X > 2 es: 0.0019\n",
      "\n",
      "EJERCICIO 8: Método de rechazo\n",
      "0: 0.8622, 1: 0.1158, 2: 0.0182, 3: 0.0032, 4: 0.0006, \n",
      "    La probabilidad de que X > 2 es: 0.0038\n",
      "\n"
     ]
    }
   ],
   "source": [
    "def ej8_poisson_sum(l, k):\n",
    "    p = np.exp(-l); r = p\n",
    "    for i in range(1, k+1): p *= l / i; r += p\n",
    "    return r\n",
    "\n",
    "def ej8_inv_method(l, k, n):\n",
    "    def sim_inv_method(p, x):\n",
    "        r = rnd.random()\n",
    "        i = 0; prob = p[i]\n",
    "        while r >= prob:\n",
    "            if i+1 == len(p): return -1\n",
    "            i += 1; prob += p[i]\n",
    "        return x[i]\n",
    "\n",
    "    denom = ej8_poisson_sum(l, k)\n",
    "    prob = np.exp(-l)/denom; p = [prob]\n",
    "    while len(p) < k+1: prob *= l / i; p.append(prob)\n",
    "    x = [i for i in range(k+1)]\n",
    "\n",
    "    assert len(x) == len(p) and len(x) == k+1\n",
    "\n",
    "    p, x = zip(*sorted(zip(p, x), reverse=True))\n",
    "    vals = []\n",
    "    while len(vals) < n:\n",
    "        v = sim_inv_method(p, x)\n",
    "        if v != -1: vals.append(v)\n",
    "\n",
    "    # Check if the distribution is correct\n",
    "    c = dict()\n",
    "    for v in vals: c[v] = c.get(v, 0) + 1\n",
    "    for k in sorted(c.keys()): print(f\"{k}: {c[k]/sum(c.values())}\", end=\", \")\n",
    "    print()\n",
    "\n",
    "    return sum(1 if v > 2 else 0 for v in vals) / len(vals)\n",
    "\n",
    "def ej8_rejection_method(l, k, n):\n",
    "    denom = ej8_poisson_sum(l, k)\n",
    "    prob = np.exp(-l)/denom; p = [prob]\n",
    "    while len(p) < k+1: prob *= l / i; p.append(prob)\n",
    "\n",
    "    assert len(p) == k+1\n",
    "\n",
    "    def nw_p(x): return p[x]\n",
    "    def nw_q(x): return 1 / (k+1)\n",
    "    def nw_Y(): return uniform_discrete_distribution(0, k)[0]\n",
    "    c = nw_p(0) / nw_q(0) + 1e-4\n",
    "\n",
    "    vals = rejection_method(nw_Y, nw_p, nw_q, c, n)\n",
    "\n",
    "    # Check if the distribution is correct\n",
    "    c = dict()\n",
    "    for v in vals: c[v] = c.get(v, 0) + 1\n",
    "    for k in sorted(c.keys()): print(f\"{k}: {c[k]/sum(c.values())}\", end=\", \")\n",
    "    print()\n",
    "\n",
    "    return sum(1 if v > 2 else 0 for v in vals) / len(vals)\n",
    "\n",
    "k = 10\n",
    "l = 0.7\n",
    "n = 10**4\n",
    "\n",
    "print(f\"EJERCICIO 8: Método de la transformada inversa\")\n",
    "v = ej8_inv_method(l, k, n)\n",
    "print(f\"    La probabilidad de que X > 2 es: {v}\")\n",
    "print()\n",
    "\n",
    "print(f\"EJERCICIO 8: Método de rechazo\")\n",
    "v = ej8_rejection_method(l, k, n)\n",
    "print(f\"    La probabilidad de que X > 2 es: {v}\")\n",
    "print()"
   ]
  },
  {
   "cell_type": "markdown",
   "metadata": {},
   "source": [
    "## Ejercicio 9"
   ]
  },
  {
   "cell_type": "code",
   "execution_count": 21,
   "metadata": {},
   "outputs": [
    {
     "name": "stdout",
     "output_type": "stream",
     "text": [
      "EJERCICIO 9: Método de la transformada inversa\n",
      "    Para p = 0.8 la cantidad de lanzamientos esperados es: 1.2592, siendo el valor real: 1.25\n",
      "    Para p = 0.2 la cantidad de lanzamientos esperados es: 5.0233, siendo el valor real: 5.0\n",
      "\n",
      "EJERCICIO 9: Método de simulación\n",
      "    Para p = 0.8 la cantidad de lanzamientos esperados es: 1.2555, siendo el valor real: 1.25\n",
      "    Para p = 0.2 la cantidad de lanzamientos esperados es: 4.9374, siendo el valor real: 5.0\n",
      "\n"
     ]
    }
   ],
   "source": [
    "def ej9_inv_method(p, n):\n",
    "    vals = geometric_distribution(p, n)\n",
    "    return sum(vals) / n\n",
    "\n",
    "def ej9_simulation(p, n):\n",
    "    vals = []\n",
    "    for _ in range(n):\n",
    "        vals.append(0)\n",
    "        while True:\n",
    "            vals[-1] += 1\n",
    "            if bernoulli_distribution(p)[0] == 1: break\n",
    "    return sum(vals) / n\n",
    "\n",
    "p_list = [0.8, 0.2]\n",
    "e_real = [1/p for p in p_list]\n",
    "n = 10**4\n",
    "\n",
    "print(f\"EJERCICIO 9: Método de la transformada inversa\")\n",
    "for p in p_list:\n",
    "    v = ej9_inv_method(p, n)\n",
    "    print(f\"    Para p = {p} la cantidad de lanzamientos esperados es: {v}, siendo el valor real: {e_real[p_list.index(p)]}\")\n",
    "print()\n",
    "\n",
    "print(f\"EJERCICIO 9: Método de simulación\")\n",
    "for p in p_list:\n",
    "    v = ej9_simulation(p, n)\n",
    "    print(f\"    Para p = {p} la cantidad de lanzamientos esperados es: {v}, siendo el valor real: {e_real[p_list.index(p)]}\")\n",
    "print()"
   ]
  },
  {
   "cell_type": "markdown",
   "metadata": {},
   "source": [
    "## Ejercicio 10"
   ]
  },
  {
   "cell_type": "code",
   "execution_count": 22,
   "metadata": {},
   "outputs": [
    {
     "name": "stdout",
     "output_type": "stream",
     "text": [
      "EJERCICIO 10: Método de la transformada inversa\n",
      "    La cantidad de lanzamientos esperados es: 2.541\n",
      "\n"
     ]
    }
   ],
   "source": [
    "def ej10_inv_method():\n",
    "    a = 1/2**2; b = 1/2*2**0/3**1\n",
    "    nxtA = 1/2; nxtB = 2/3\n",
    "    p = a+b; i = 1\n",
    "    r = rnd.random()\n",
    "    while r >= p:\n",
    "        i += 1\n",
    "        a *= nxtA; b *= nxtB\n",
    "        p += a+b\n",
    "    return i\n",
    "\n",
    "def ej10_simulation(n):\n",
    "    vals = [ej10_inv_method() for _ in range(n)]\n",
    "    return sum(vals) / n\n",
    "\n",
    "n = 10**3\n",
    "print(f\"EJERCICIO 10: Método de la transformada inversa\")\n",
    "v = ej10_simulation(n)\n",
    "print(f\"    La cantidad de lanzamientos esperados es: {v}\")\n",
    "print()"
   ]
  },
  {
   "cell_type": "markdown",
   "metadata": {},
   "source": [
    "## Ejercicio 11"
   ]
  },
  {
   "cell_type": "code",
   "execution_count": 23,
   "metadata": {},
   "outputs": [
    {
     "name": "stdout",
     "output_type": "stream",
     "text": [
      "EJERCICIO 11: Método de tasa de riesgo (p = 0.2)\n",
      "     1: 0.2016, 2: 0.1545, 3: 0.1325, 4: 0.1009, 5: 0.0833, 6: 0.0705, 7: 0.0502, 8: 0.0393, 9: 0.0362, 10: 0.0245, 11: 0.0226, 12: 0.0171, 13: 0.0148, 14: 0.0096, 15: 0.0091, 16: 0.0054, 17: 0.0053, 18: 0.0038, 19: 0.0045, 20: 0.0029, 21: 0.0023, 22: 0.0016, 23: 0.0022, 24: 0.0007, 25: 0.0007, 26: 0.0008, 27: 0.0007, 28: 0.0003, 29: 0.0002, 30: 0.0003, 31: 0.0002, 32: 0.0003, 33: 0.0007, 34: 0.0001, 35: 0.0002, 39: 0.0001, \n",
      "\n",
      "EJERCICIO 11: Comparación con la distribución geométrica (transformada inversa) con p = 0.2\n",
      "     1: 0.1949, 2: 0.1693, 3: 0.1276, 4: 0.1033, 5: 0.0793, 6: 0.0644, 7: 0.0489, 8: 0.0398, 9: 0.0337, 10: 0.0286, 11: 0.023, 12: 0.0173, 13: 0.0136, 14: 0.0108, 15: 0.0093, 16: 0.0065, 17: 0.0061, 18: 0.0057, 19: 0.0041, 20: 0.0024, 21: 0.0018, 22: 0.0024, 23: 0.0015, 24: 0.0011, 25: 0.0009, 26: 0.0014, 27: 0.0004, 28: 0.0006, 29: 0.0005, 30: 0.0003, 31: 0.0001, 33: 0.0001, 34: 0.0002, 42: 0.0001, \n",
      "\n",
      "EJERCICIO 11: Las primeras 20 tasas de riesgo son las siguientes para p = 0.2\n",
      "    0: 0.0\n",
      "    1: 0.2\n",
      "    2: 0.20000000000000004\n",
      "    3: 0.20000000000000007\n",
      "    4: 0.2000000000000001\n",
      "    5: 0.20000000000000012\n",
      "    6: 0.20000000000000015\n",
      "    7: 0.20000000000000023\n",
      "    8: 0.2000000000000003\n",
      "    9: 0.20000000000000043\n",
      "    10: 0.20000000000000048\n",
      "    11: 0.2000000000000006\n",
      "    12: 0.20000000000000082\n",
      "    13: 0.20000000000000115\n",
      "    14: 0.20000000000000143\n",
      "    15: 0.20000000000000204\n",
      "    16: 0.20000000000000231\n",
      "    17: 0.20000000000000323\n",
      "    18: 0.20000000000000387\n",
      "    19: 0.20000000000000437\n"
     ]
    }
   ],
   "source": [
    "p = 0.2\n",
    "\n",
    "print(f\"EJERCICIO 11: Método de tasa de riesgo (p = {p})\")\n",
    "def P(x): return 0 if x == 0 else p*(1-p)**(x-1)\n",
    "vals = risk_rate_method(P, 10**4)\n",
    "c = dict()\n",
    "for v in vals: c[v] = c.get(v, 0) + 1\n",
    "print(\"     \", end=\"\")\n",
    "for k in sorted(c.keys()): print(f\"{k}: {c[k]/sum(c.values())}\", end=\", \")\n",
    "print(\"\\n\")\n",
    "\n",
    "print(f\"EJERCICIO 11: Comparación con la distribución geométrica (transformada inversa) con p = {p}\")\n",
    "vals = geometric_distribution(p, 10**4)\n",
    "c = dict()\n",
    "for v in vals: c[v] = c.get(v, 0) + 1\n",
    "print(\"     \", end=\"\")\n",
    "for k in sorted(c.keys()): print(f\"{k}: {c[k]/sum(c.values())}\", end=\", \")\n",
    "print(\"\\n\")\n",
    "\n",
    "print(f\"EJERCICIO 11: Las primeras 20 tasas de riesgo son las siguientes para p = {p}\")\n",
    "i = 0; prob = P(i); s = 0\n",
    "while i < 20:\n",
    "    print(f\"    {i}: {prob / (1 - s)}\")\n",
    "    i += 1; s += prob; prob = P(i)"
   ]
  },
  {
   "cell_type": "markdown",
   "metadata": {},
   "source": [
    "## Ejercicio 12"
   ]
  },
  {
   "cell_type": "markdown",
   "metadata": {},
   "source": [
    "Para este ejercicio, tenemos que notar que la distribución que se simula en el algoritmo es $min(X, Y)$ donde $X\\sim Geom(p_1)$ y $Y\\sim Geom(p_2)$.\n",
    "\n",
    "Si $X$ e $Y$ son independientes, como se muestra por la forma en la que se generan sus valores, entonces $min(X, Y)\\sim Geom(1-(1-p_1)(1-p_2))$, por lo que podemos usar eso para usar un único número aleatorio.\n",
    "\n",
    "Luego, nos queda entonces lo siguiente:"
   ]
  },
  {
   "cell_type": "code",
   "execution_count": 24,
   "metadata": {},
   "outputs": [
    {
     "name": "stdout",
     "output_type": "stream",
     "text": [
      "EJERCICIO 12: Método original\n",
      "     1: 0.2418, 2: 0.1833, 3: 0.1385, 4: 0.1053, 5: 0.0769, 6: 0.0649, 7: 0.0438, 8: 0.034, 9: 0.0253, 10: 0.023, 11: 0.0149, 12: 0.0118, 13: 0.009, 14: 0.007, 15: 0.0048, 16: 0.0026, 17: 0.0028, 18: 0.0025, 19: 0.0021, 20: 0.0019, 21: 0.0012, 22: 0.0007, 23: 0.0004, 24: 0.0003, 25: 0.0004, 26: 0.0004, 29: 0.0003, 30: 0.0001, \n",
      "\n",
      "EJERCICIO 12: Método optimizado\n",
      "     1: 0.2431, 2: 0.1794, 3: 0.1331, 4: 0.1084, 5: 0.081, 6: 0.0653, 7: 0.0471, 8: 0.0353, 9: 0.0295, 10: 0.0188, 11: 0.0144, 12: 0.0102, 13: 0.0079, 14: 0.0069, 15: 0.0045, 16: 0.0036, 17: 0.0018, 18: 0.0016, 19: 0.0021, 20: 0.0011, 21: 0.0014, 22: 0.0009, 23: 0.0006, 24: 0.0006, 25: 0.0003, 26: 0.0002, 27: 0.0002, 29: 0.0002, 30: 0.0001, 32: 0.0002, 33: 0.0002, \n",
      "\n"
     ]
    }
   ],
   "source": [
    "def ej12_original(p1, p2, n):\n",
    "    return [min(geometric_distribution(p1)[0], geometric_distribution(p2)[0]) for _ in range(n)]\n",
    "\n",
    "def ej12_optimized(p1, p2, n):\n",
    "    return geometric_distribution(1-(1-p1)*(1-p2), n)\n",
    "\n",
    "p1 = 0.05; p2 = 0.2\n",
    "n = 10**4\n",
    "\n",
    "print(f\"EJERCICIO 12: Método original\")\n",
    "vals = ej12_original(p1, p2, n)\n",
    "c = dict()\n",
    "for v in vals: c[v] = c.get(v, 0) + 1\n",
    "print(\"     \", end=\"\")\n",
    "for k in sorted(c.keys()): print(f\"{k}: {c[k]/sum(c.values())}\", end=\", \")\n",
    "print(\"\\n\")\n",
    "\n",
    "print(f\"EJERCICIO 12: Método optimizado\")\n",
    "vals = ej12_optimized(p1, p2, n)\n",
    "c = dict()\n",
    "for v in vals: c[v] = c.get(v, 0) + 1\n",
    "print(\"     \", end=\"\")\n",
    "for k in sorted(c.keys()): print(f\"{k}: {c[k]/sum(c.values())}\", end=\", \")\n",
    "print(\"\\n\")"
   ]
  }
 ],
 "metadata": {
  "kernelspec": {
   "display_name": "famaf-mys",
   "language": "python",
   "name": "python3"
  },
  "language_info": {
   "codemirror_mode": {
    "name": "ipython",
    "version": 3
   },
   "file_extension": ".py",
   "mimetype": "text/x-python",
   "name": "python",
   "nbconvert_exporter": "python",
   "pygments_lexer": "ipython3",
   "version": "3.11.8"
  }
 },
 "nbformat": 4,
 "nbformat_minor": 2
}
