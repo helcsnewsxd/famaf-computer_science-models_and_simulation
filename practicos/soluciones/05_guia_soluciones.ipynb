{
 "cells": [
  {
   "cell_type": "markdown",
   "metadata": {},
   "source": [
    "# Práctico 5: Generación de Variables Aleatorias Continuas"
   ]
  },
  {
   "cell_type": "markdown",
   "metadata": {},
   "source": [
    "## Algoritmos"
   ]
  },
  {
   "cell_type": "code",
   "execution_count": 1,
   "metadata": {},
   "outputs": [],
   "source": [
    "import random as rnd\n",
    "import numpy as np"
   ]
  },
  {
   "cell_type": "markdown",
   "metadata": {},
   "source": [
    "### Método de la Transformada Inversa"
   ]
  },
  {
   "cell_type": "code",
   "execution_count": 2,
   "metadata": {},
   "outputs": [],
   "source": [
    "def inverse_transform_method(G: callable) -> float:\n",
    "    \"\"\"\n",
    "    Inverse Transform Method for generating random numbers from a given distribution.\n",
    "\n",
    "    Parameters:\n",
    "    G: callable\n",
    "        The inverse of the cumulative distribution function of the distribution from which we want to generate random numbers.\n",
    "\n",
    "    Returns:\n",
    "    float\n",
    "        A random number from the distribution.\n",
    "    \"\"\"\n",
    "    U = rnd.random()\n",
    "    return G(U)"
   ]
  },
  {
   "cell_type": "markdown",
   "metadata": {},
   "source": [
    "### Generación de VAs Poisson"
   ]
  },
  {
   "cell_type": "code",
   "execution_count": 3,
   "metadata": {},
   "outputs": [
    {
     "name": "stdout",
     "output_type": "stream",
     "text": [
      "Expected mean: 2 and variance: 2\n",
      "Actual mean: 1.99554 and variance: 2.0075001084000004\n"
     ]
    }
   ],
   "source": [
    "def poisson_distribution(l: float, sz: int = 1) -> list[int]:\n",
    "    \"\"\"\n",
    "    Generates random numbers from a Poisson distribution.\n",
    "\n",
    "    Parameters:\n",
    "    l: float\n",
    "        The rate parameter of the Poisson distribution.\n",
    "    sz: int\n",
    "        The number of random numbers to generate.\n",
    "\n",
    "    Returns:\n",
    "    list[int]\n",
    "        A list of random numbers from the Poisson distribution.\n",
    "    \"\"\"\n",
    "    def generate(l: float) -> int:\n",
    "        x = 0; p = 1 - rnd.random(); lim = np.exp(-l)\n",
    "        while p >= lim: p *= 1 - rnd.random(); x += 1\n",
    "        return x\n",
    "        \n",
    "    return [generate(l) for _ in range(sz)]\n",
    "\n",
    "if __name__ == \"__main__\":\n",
    "    # Check if the generated random numbers are from the Poisson distribution.\n",
    "    l = 2\n",
    "    sz = 10**5\n",
    "    random_numbers = poisson_distribution(l, sz)\n",
    "    print(f\"Expected mean: {l} and variance: {l}\")\n",
    "    print(f\"Actual mean: {np.mean(random_numbers)} and variance: {np.var(random_numbers)}\")"
   ]
  },
  {
   "cell_type": "markdown",
   "metadata": {},
   "source": [
    "### Generación de VAs Gamma"
   ]
  },
  {
   "cell_type": "code",
   "execution_count": 4,
   "metadata": {},
   "outputs": [
    {
     "name": "stdout",
     "output_type": "stream",
     "text": [
      "Expected mean: 4 and variance: 8\n",
      "Actual mean: 3.9885881343354046 and variance: 8.002888487682933\n"
     ]
    }
   ],
   "source": [
    "def gamma_distribution(a: int, b: float, sz: int = 1) -> list[float]:\n",
    "    \"\"\"\n",
    "    Generates random numbers from a gamma distribution with shape parameter ('a') as integer.\n",
    "\n",
    "    Parameters:\n",
    "    a: int\n",
    "        The shape parameter of the gamma distribution.\n",
    "    b: float\n",
    "        The rate parameter of the gamma distribution.\n",
    "    sz: int\n",
    "        The number of random numbers to generate.\n",
    "\n",
    "    Returns:\n",
    "    list[float]\n",
    "        A list of random numbers from the gamma distribution.\n",
    "    \"\"\"\n",
    "    def generate_gamma(a: int, b: float) -> float:\n",
    "        u = 1\n",
    "        for _ in range(a): u *= 1 - rnd.random()\n",
    "        assert u > 0, \"Invalid value generated for u\"\n",
    "        return -np.log(u) * b\n",
    "\n",
    "    return [generate_gamma(a, b) for _ in range(sz)]\n",
    "\n",
    "if __name__ == \"__main__\":\n",
    "    # Check if the generated random numbers are from the gamma distribution.\n",
    "    a = 2; b = 2\n",
    "    sz = 10**5\n",
    "    random_numbers = gamma_distribution(a, b, sz)\n",
    "    print(f\"Expected mean: {a * b} and variance: {a * b ** 2}\")\n",
    "    print(f\"Actual mean: {np.mean(random_numbers)} and variance: {np.var(random_numbers)}\")"
   ]
  },
  {
   "cell_type": "markdown",
   "metadata": {},
   "source": [
    "### Generación de VAs Exponenciales"
   ]
  },
  {
   "cell_type": "code",
   "execution_count": 5,
   "metadata": {},
   "outputs": [
    {
     "name": "stdout",
     "output_type": "stream",
     "text": [
      "Expected mean: 0.5 and variance: 0.25\n",
      "With Gamma method:\n",
      "    Actual mean: 0.5284678590183732 and variance: 0.28921699778438886\n",
      "With Inverse Transform method:\n",
      "    Actual mean: 0.49447696014382264 and variance: 0.24740045176945413\n"
     ]
    }
   ],
   "source": [
    "def exponential_distribution(l: float, sz: int = 1, gamma_method: bool = True) -> list[float]:\n",
    "    \"\"\"\n",
    "    Generates random numbers from an exponential distribution.\n",
    "\n",
    "    Parameters:\n",
    "    l: float\n",
    "        The rate parameter of the exponential distribution.\n",
    "    sz: int\n",
    "        The number of random numbers to generate.\n",
    "    gamma_method: bool\n",
    "        If True, uses the gamma distribution method to generate random numbers. Otherwise, uses the inverse transform method.\n",
    "        (The gamma method is more efficient for generating multiple random numbers but if the SZ is big, -log(u) can be very close to 0 and cause numerical issues.)\n",
    "\n",
    "    Returns:\n",
    "    list[float]\n",
    "        A list of random numbers from the exponential distribution.\n",
    "    \"\"\"\n",
    "    if sz == 1 or not gamma_method:\n",
    "        return [inverse_transform_method(lambda u: -np.log(1 - u) / l) for _ in range(sz)]\n",
    "\n",
    "    # Method using a Gamma distribution.\n",
    "    t = gamma_distribution(sz, 1/l)[0]\n",
    "    u = sorted([rnd.random() for _ in range(sz - 1)] + [0, 1])\n",
    "    return [(u[i] - u[i-1]) * t for i in range(1, len(u))]\n",
    "\n",
    "\n",
    "if __name__ == \"__main__\":\n",
    "    # Check if the generated random numbers are from the exponential distribution.\n",
    "    l = 2\n",
    "    print(f\"Expected mean: {1 / l} and variance: {1 / l ** 2}\")\n",
    "    \n",
    "    print(f\"With Gamma method:\")\n",
    "    sz = 600\n",
    "    random_numbers = exponential_distribution(l, sz)\n",
    "    print(f\"    Actual mean: {np.mean(random_numbers)} and variance: {np.var(random_numbers)}\")\n",
    "\n",
    "    print(f\"With Inverse Transform method:\")\n",
    "    sz = 10**4\n",
    "    random_numbers = exponential_distribution(l, sz, gamma_method=False)\n",
    "    print(f\"    Actual mean: {np.mean(random_numbers)} and variance: {np.var(random_numbers)}\")"
   ]
  },
  {
   "cell_type": "markdown",
   "metadata": {},
   "source": [
    "### Método de Aceptación y Rechazo"
   ]
  },
  {
   "cell_type": "code",
   "execution_count": 6,
   "metadata": {},
   "outputs": [
    {
     "name": "stdout",
     "output_type": "stream",
     "text": [
      "Using Rejection Method:\n",
      "    Expected mean: 1.5 and variance: 1.5\n",
      "    Actual mean: 1.5069984128926786 and variance: 1.5081130955669826\n",
      "Using Transform Rejection Method:\n",
      "    Expected mean: 1.5 and variance: 1.5\n",
      "    Actual mean: 1.4987081916679301 and variance: 1.506125699108363\n"
     ]
    }
   ],
   "source": [
    "def rejection_method(Y: callable, p: callable, q: callable, c: float, sz: int = 1) -> list[float]:\n",
    "    \"\"\"\n",
    "    Estimate the expected value of a function using the rejection method.\n",
    "\n",
    "    Parameters:\n",
    "    Y: callable - Function to simulate the random variable.\n",
    "    p: callable - Probability function of the random variable of X.\n",
    "    q: callable - Probability function of the random variable of Y.\n",
    "    c: float - Constant such that p(x) <= c * q(x) for all x.\n",
    "    sz: int - Number of random numbers to generate.\n",
    "\n",
    "    Returns:\n",
    "    list[int] - List of random numbers.\n",
    "    \"\"\"\n",
    "    def generate(Y: callable, p: callable, q: callable, c: float) -> float:\n",
    "        while True:\n",
    "            x = Y()\n",
    "            U = rnd.random()\n",
    "            if U < p(x) / (c * q(x)): return x\n",
    "    \n",
    "    return [generate(Y, p, q, c) for _ in range(sz)]\n",
    "\n",
    "def transform_rejection_method(H: callable, Hd: callable, p: callable, c: float, sz: int = 1) -> list[float]:\n",
    "    \"\"\"\n",
    "    Estimate the expected value of a function using the rejection method.\n",
    "\n",
    "    Parameters:\n",
    "    H: callable - Inverse of the cumulative distribution function of the random variable of Y.\n",
    "    Hd: callable - Derivative of H.\n",
    "    p: callable - Probability function of the random variable of X.\n",
    "    c: float - Constant such that p(x) <= c * q(x) for all x.\n",
    "    sz: int - Number of random numbers to generate.\n",
    "\n",
    "    Returns:\n",
    "    list[int] - List of random numbers.\n",
    "    \"\"\"\n",
    "    def generate(H: callable, Hd: callable, p: callable, c: float) -> float:\n",
    "        while True:\n",
    "            U = rnd.random(); V = rnd.random()\n",
    "            HU = H(U); HdU = Hd(U)\n",
    "            if V < p(HU) * HdU / c: return HU\n",
    "    \n",
    "    return [generate(H, Hd, p, c) for _ in range(sz)]\n",
    "\n",
    "if __name__ == \"__main__\":\n",
    "    # Check to generate Gamma(3/2, 1) with Y as exponential(2/3)\n",
    "    a = 3/2; b = 1\n",
    "    Y = lambda: exponential_distribution(2/3)[0]\n",
    "    p = lambda x : 2/np.pi * x**(1/2) * np.exp(-x)\n",
    "    q = lambda x : 2/3 * np.exp(-2/3 * x)\n",
    "\n",
    "    sz = 10**5\n",
    "    random_numbers = rejection_method(Y, p, q, 1.35, sz)\n",
    "    print(f\"Using Rejection Method:\")\n",
    "    print(f\"    Expected mean: {a * b} and variance: {a * b ** 2}\")\n",
    "    print(f\"    Actual mean: {np.mean(random_numbers)} and variance: {np.var(random_numbers)}\")\n",
    "\n",
    "    # Check to generate Gamma(3/2, 1) with Y as exponential(2/3)\n",
    "    H = lambda x: -3/2 * np.log(1 - x)\n",
    "    Hd = lambda x: 3/2 / (1 - x)\n",
    "    c = 3 * np.sqrt(3/(2*np.pi*np.e))\n",
    "    random_numbers = transform_rejection_method(H, Hd, p, c, sz)\n",
    "    print(f\"Using Transform Rejection Method:\")\n",
    "    print(f\"    Expected mean: {a * b} and variance: {a * b ** 2}\")\n",
    "    print(f\"    Actual mean: {np.mean(random_numbers)} and variance: {np.var(random_numbers)}\")"
   ]
  },
  {
   "cell_type": "markdown",
   "metadata": {},
   "source": [
    "### Generación de VAs Normales"
   ]
  },
  {
   "cell_type": "code",
   "execution_count": 7,
   "metadata": {},
   "outputs": [
    {
     "name": "stdout",
     "output_type": "stream",
     "text": [
      "Using Polar method:\n",
      "    Expected mean: -2 and variance: 1\n",
      "    Actual mean: -1.9990025552755324 and variance: 1.0038155108414992\n",
      "Using Box-Muller method:\n",
      "    Expected mean: -2 and variance: 1\n",
      "    Actual mean: -2.001054381654991 and variance: 0.9969341551131323\n",
      "Using Uniform Ratios method:\n",
      "    Expected mean: -2 and variance: 1\n",
      "    Actual mean: -1.9994363778520359 and variance: 0.9975360949543333\n",
      "Using Rejection method:\n",
      "    Expected mean: -2 and variance: 1\n",
      "    Actual mean: -1.994271266201237 and variance: 0.9954956774485472\n",
      "\n",
      "\n",
      "Using Polar method:\n",
      "    Expected mean: 2 and variance: 1\n",
      "    Actual mean: 2.0022988695821886 and variance: 0.9979545439907657\n",
      "Using Box-Muller method:\n",
      "    Expected mean: 2 and variance: 1\n",
      "    Actual mean: 1.9981063507106704 and variance: 1.005309533523191\n",
      "Using Uniform Ratios method:\n",
      "    Expected mean: 2 and variance: 1\n",
      "    Actual mean: 2.0039997336241675 and variance: 0.9932063108607804\n",
      "Using Rejection method:\n",
      "    Expected mean: 2 and variance: 1\n",
      "    Actual mean: 1.997754845599927 and variance: 1.0005617464197496\n",
      "\n",
      "\n",
      "Using Polar method:\n",
      "    Expected mean: 5 and variance: 4\n",
      "    Actual mean: 4.99658813084278 and variance: 3.9704282570983964\n",
      "Using Box-Muller method:\n",
      "    Expected mean: 5 and variance: 4\n",
      "    Actual mean: 5.001883043639703 and variance: 4.0002350844766585\n",
      "Using Uniform Ratios method:\n",
      "    Expected mean: 5 and variance: 4\n",
      "    Actual mean: 5.00016382934286 and variance: 4.005012145794524\n",
      "Using Rejection method:\n",
      "    Expected mean: 5 and variance: 4\n",
      "    Actual mean: 4.99800718010852 and variance: 4.026917398891146\n",
      "\n",
      "\n",
      "Using Polar method:\n",
      "    Expected mean: 10 and variance: 9\n",
      "    Actual mean: 9.990363781097518 and variance: 8.950095849806045\n",
      "Using Box-Muller method:\n",
      "    Expected mean: 10 and variance: 9\n",
      "    Actual mean: 10.017642347991615 and variance: 9.019027465299546\n",
      "Using Uniform Ratios method:\n",
      "    Expected mean: 10 and variance: 9\n",
      "    Actual mean: 10.009448002038733 and variance: 9.048296797738312\n",
      "Using Rejection method:\n",
      "    Expected mean: 10 and variance: 9\n",
      "    Actual mean: 9.985557201865712 and variance: 8.991311835385916\n",
      "\n",
      "\n"
     ]
    }
   ],
   "source": [
    "def normal_distribution(m: float, s: float, sz: int = 1, method: str = \"rejection\") -> list[float]:\n",
    "    \"\"\"\n",
    "    Generates random numbers from a normal distribution.\n",
    "\n",
    "    Parameters:\n",
    "    m: float\n",
    "        The mean of the normal distribution.\n",
    "    s: float\n",
    "        The standard deviation of the normal distribution.\n",
    "    sz: int\n",
    "        The number of random numbers to generate.\n",
    "    method: str\n",
    "        The method to use for generating random numbers. Can be \"rejection\", \"polar\", \"box-muller\" or \"uniform_ratios\".\n",
    "        Default is \"rejection\".\n",
    "\n",
    "    Returns:\n",
    "    list[float]\n",
    "        A list of random numbers from the normal distribution.\n",
    "    \"\"\"\n",
    "    def rejection_method() -> float:\n",
    "        while True:\n",
    "            u, y = -np.log(rnd.random()), -np.log(rnd.random())\n",
    "            if y >= (u - 1) ** 2 / 2: return (u if rnd.random() < 0.5 else -u)\n",
    "    \n",
    "    def polar_method() -> list[float]:\n",
    "        r2 = -2 * np.log(1 - rnd.random())\n",
    "        theta = 2 * np.pi * rnd.random()\n",
    "        x, y = np.sqrt(r2) * np.cos(theta), np.sqrt(r2) * np.sin(theta)\n",
    "        return [x, y]\n",
    "    \n",
    "    def box_muller_method() -> list[float]:\n",
    "        while True:\n",
    "            v1, v2 = 2 * rnd.random() - 1, 2 * rnd.random() - 1\n",
    "            if v1 ** 2 + v2 ** 2 <= 1:\n",
    "                s = v1 ** 2 + v2 ** 2\n",
    "                x, y = v1 * np.sqrt(-2 * np.log(s) / s), v2 * np.sqrt(-2 * np.log(s) / s)\n",
    "                return [x, y]\n",
    "        \n",
    "    def uniform_ratios_method() -> float:\n",
    "        c = 4 * np.exp(-0.5) / np.sqrt(2.0)\n",
    "        while True:\n",
    "            u, y = rnd.random(), 1 - rnd.random()\n",
    "            z = c * (u - 0.5) / y\n",
    "            if z ** 2 / 4 <= -np.log(y): return z\n",
    "    \n",
    "    match method:\n",
    "        case \"polar\":\n",
    "            r = []\n",
    "            while len(r) < sz: r += [m + x * s for x in polar_method()]\n",
    "            return r[:sz]\n",
    "        case \"box-muller\":\n",
    "            r = []\n",
    "            while len(r) < sz: r += [m + x * s for x in box_muller_method()]\n",
    "            return r[:sz]\n",
    "        case \"uniform_ratios\":\n",
    "            return [m + uniform_ratios_method() * s for _ in range(sz)]\n",
    "        case \"rejection\":\n",
    "            return [m + rejection_method() * s for _ in range(sz)]\n",
    "        case _:\n",
    "            raise ValueError(\"Invalid method. Please use 'rejection', 'polar', 'box-muller' or 'uniform_ratios'.\")\n",
    "    \n",
    "if __name__ == \"__main__\":\n",
    "    # Check if the generated random numbers are from the normal distribution.\n",
    "    m_list = [-2, 2, 5, 10]\n",
    "    s_list = [1, 1, 2, 3]\n",
    "    sz = 10**5\n",
    "\n",
    "    for i in range(len(m_list)):\n",
    "        m, s = m_list[i], s_list[i]\n",
    "\n",
    "        # Case 1: Using polar method.\n",
    "        random_numbers = normal_distribution(m, s, sz, \"polar\")\n",
    "        print(f\"Using Polar method:\")\n",
    "        print(f\"    Expected mean: {m} and variance: {s ** 2}\")\n",
    "        print(f\"    Actual mean: {np.mean(random_numbers)} and variance: {np.var(random_numbers)}\")\n",
    "\n",
    "        # Case 2: Using Box-Muller method.\n",
    "        random_numbers = normal_distribution(m, s, sz, \"box-muller\")\n",
    "        print(f\"Using Box-Muller method:\")\n",
    "        print(f\"    Expected mean: {m} and variance: {s ** 2}\")\n",
    "        print(f\"    Actual mean: {np.mean(random_numbers)} and variance: {np.var(random_numbers)}\")\n",
    "\n",
    "        # Case 3: Using Uniform Ratios method.\n",
    "        random_numbers = normal_distribution(m, s, sz, \"uniform_ratios\")\n",
    "        print(f\"Using Uniform Ratios method:\")\n",
    "        print(f\"    Expected mean: {m} and variance: {s ** 2}\")\n",
    "        print(f\"    Actual mean: {np.mean(random_numbers)} and variance: {np.var(random_numbers)}\")\n",
    "\n",
    "        # Case 4: Using Rejection method.\n",
    "        random_numbers = normal_distribution(m, s, sz, \"rejection\")\n",
    "        print(f\"Using Rejection method:\")\n",
    "        print(f\"    Expected mean: {m} and variance: {s ** 2}\")\n",
    "        print(f\"    Actual mean: {np.mean(random_numbers)} and variance: {np.var(random_numbers)}\")\n",
    "\n",
    "        print(\"\\n\")\n",
    "\n"
   ]
  },
  {
   "cell_type": "markdown",
   "metadata": {},
   "source": [
    "### Generación de Proceso de Poisson"
   ]
  },
  {
   "cell_type": "markdown",
   "metadata": {},
   "source": [
    "#### Homogéneo"
   ]
  },
  {
   "cell_type": "code",
   "execution_count": 8,
   "metadata": {},
   "outputs": [
    {
     "name": "stdout",
     "output_type": "stream",
     "text": [
      "Expected mean: 20\n",
      "Actual mean: 20.0805\n"
     ]
    }
   ],
   "source": [
    "def poisson_process_events(l: float, t: float) -> list[float]:\n",
    "    \"\"\"\n",
    "    Generates the events of a Poisson process until a given time 't'.\n",
    "\n",
    "    Parameters:\n",
    "    l: float\n",
    "        The rate parameter of the Poisson process.\n",
    "    t: float\n",
    "        The time until which the events are generated.\n",
    "\n",
    "    Returns:\n",
    "    list[float]\n",
    "        A list of times at which the events occur.\n",
    "    \"\"\"\n",
    "    x = 0; events = []\n",
    "    while True:\n",
    "        x += exponential_distribution(l)[0]\n",
    "        if x > t: break\n",
    "        events.append(x)\n",
    "    return events\n",
    "\n",
    "if __name__ == \"__main__\":\n",
    "    # Check if the generated events are from a Poisson process.\n",
    "    l = 2\n",
    "    t = 10\n",
    "    sz = 10**4\n",
    "    cnt_events = [len(poisson_process_events(l, t)) for _ in range(sz)]\n",
    "    print(f\"Expected mean: {l * t}\")\n",
    "    print(f\"Actual mean: {np.mean(cnt_events)}\")"
   ]
  },
  {
   "cell_type": "markdown",
   "metadata": {},
   "source": [
    "#### No homogéneo (*adelgazamiento*)"
   ]
  },
  {
   "cell_type": "code",
   "execution_count": 9,
   "metadata": {},
   "outputs": [
    {
     "name": "stdout",
     "output_type": "stream",
     "text": [
      "Using the basic method:\n",
      "    Expected mean: 21.834497011030297\n",
      "    Actual mean: 21.8399\n",
      "Using the optimized method:\n",
      "    Expected mean: 21.834497011030297\n",
      "    Actual mean: 21.8679\n"
     ]
    }
   ],
   "source": [
    "def poisson_no_homogeneous_process_events(fl: callable, l: float, t: float) -> list[float]:\n",
    "    \"\"\"\n",
    "    Generates the events of a non-homogeneous Poisson process until a given time 't'.\n",
    "\n",
    "    Parameters:\n",
    "    fl: callable\n",
    "        The function that returns the rate parameter at time 't'.\n",
    "    l: float\n",
    "        The upper bound of the rate parameter.\n",
    "    t: float\n",
    "        The time until which the events are generated.\n",
    "\n",
    "    Returns:\n",
    "    list[float]\n",
    "        A list of times at which the events occur.\n",
    "    \"\"\"\n",
    "    x = 0; events = []\n",
    "    while True:\n",
    "        x += exponential_distribution(l)[0]\n",
    "        if x > t: break\n",
    "        if rnd.random() < fl(x) / l: events.append(x)\n",
    "    return events\n",
    "\n",
    "def poisson_no_homogeneous_process_events_optimized(fl: callable, l: list[float], t: list[float]) -> list[float]:\n",
    "    \"\"\"\n",
    "    Generates the events of a non-homogeneous Poisson process with time intervals until a given time 't[-1]'.\n",
    "\n",
    "    Parameters:\n",
    "    fl: callable\n",
    "        The function that returns the rate parameter at time 't'.\n",
    "    l: list[float]\n",
    "        The upper bound of the rate parameter.\n",
    "    t: list[float]\n",
    "        The time until which the events are generated (intervals).\n",
    "    \n",
    "    Returns:\n",
    "    list[float]\n",
    "        A list of times at which the events occur.\n",
    "    \"\"\"\n",
    "    x = 0; events = []; i = 0\n",
    "    while True:\n",
    "        x += exponential_distribution(l[i])[0]\n",
    "        while i != len(t) - 1 and x > t[i]: x = t[i] + (x - t[i]) * l[i] / l[i+1]; i += 1\n",
    "        if x > t[-1]: break\n",
    "        if rnd.random() < fl(x) / l[i]: events.append(x)\n",
    "    return events\n",
    "\n",
    "if __name__ == \"__main__\":\n",
    "    # Check if the generated events are from a non-homogeneous Poisson process.\n",
    "    fl = lambda x: 2 + np.sin(x)\n",
    "    l = 3\n",
    "    t = 10\n",
    "    sz = 10**4\n",
    "    cnt_events = [len(poisson_no_homogeneous_process_events(fl, l, t)) for _ in range(sz)]\n",
    "    print(f\"Using the basic method:\")\n",
    "    print(f\"    Expected mean: {t * np.mean([fl(x) for x in np.linspace(0, t, 1000)])}\")\n",
    "    print(f\"    Actual mean: {np.mean(cnt_events)}\")\n",
    "\n",
    "    l = [2 + np.sin(x) for x in np.linspace(0, 10, 1000)]\n",
    "    t = np.linspace(0, 10, 1000)\n",
    "    cnt_events = [len(poisson_no_homogeneous_process_events_optimized(fl, l, t)) for _ in range(sz)]\n",
    "    print(f\"Using the optimized method:\")\n",
    "    print(f\"    Expected mean: {t[-1] * np.mean([fl(x) for x in np.linspace(0, t[-1], 1000)])}\")\n",
    "    print(f\"    Actual mean: {np.mean(cnt_events)}\")"
   ]
  }
 ],
 "metadata": {
  "kernelspec": {
   "display_name": "famaf-mys",
   "language": "python",
   "name": "python3"
  },
  "language_info": {
   "codemirror_mode": {
    "name": "ipython",
    "version": 3
   },
   "file_extension": ".py",
   "mimetype": "text/x-python",
   "name": "python",
   "nbconvert_exporter": "python",
   "pygments_lexer": "ipython3",
   "version": "3.11.8"
  }
 },
 "nbformat": 4,
 "nbformat_minor": 2
}
